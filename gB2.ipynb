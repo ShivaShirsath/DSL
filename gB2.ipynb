{
  "cells": [
    {
      "cell_type": "markdown",
      "id": "f444479f",
      "metadata": {
        "id": "f444479f"
      },
      "source": [
        "a) Write a python program to store names and mobile numbers of your friends in sorted order on names. Search your friend from list using **binary search (non recursive and recursive)**. Insert friend if not present in phone book.\n",
        "\n",
        "b) Write a python program to store names and mobile numbers of your friends in sorted order on names. Search your friend from list using **Fibonacci search**. Insert friend if not present in phone book."
      ]
    },
    {
      "cell_type": "markdown",
      "id": "3f50d57b",
      "metadata": {
        "id": "3f50d57b"
      },
      "source": [
        "***"
      ]
    },
    {
      "cell_type": "markdown",
      "id": "933828c5",
      "metadata": {
        "id": "933828c5"
      },
      "source": [
        "##### importing math module"
      ]
    },
    {
      "cell_type": "code",
      "execution_count": null,
      "id": "e14b51a5",
      "metadata": {
        "id": "e14b51a5"
      },
      "outputs": [],
      "source": [
        "import math"
      ]
    },
    {
      "cell_type": "markdown",
      "id": "adcb36eb",
      "metadata": {
        "id": "adcb36eb"
      },
      "source": [
        "***"
      ]
    },
    {
      "cell_type": "markdown",
      "id": "d4533bf4",
      "metadata": {
        "id": "d4533bf4"
      },
      "source": [
        "##### Function for binary search"
      ]
    },
    {
      "cell_type": "code",
      "execution_count": null,
      "id": "a56e9a83",
      "metadata": {
        "id": "a56e9a83"
      },
      "outputs": [],
      "source": [
        "def BinSearch(phbk, low, high, key):\n",
        "    mid=0\n",
        "    while (low <= high):\n",
        "        s1 = low + high\n",
        "        mid = s1 // 2\n",
        "        if (phbk[mid][0] == key):\n",
        "            return mid\n",
        "        elif (phbk[mid][0] < key):\n",
        "            low = mid +1\n",
        "        elif (phbk[mid][0]> key):\n",
        "            high = mid-1\n",
        "    return -1"
      ]
    },
    {
      "cell_type": "markdown",
      "id": "a777ad16",
      "metadata": {
        "id": "a777ad16"
      },
      "source": [
        "***"
      ]
    },
    {
      "cell_type": "markdown",
      "id": "b8bc46dc",
      "metadata": {
        "id": "b8bc46dc"
      },
      "source": [
        "##### Function To sort Data"
      ]
    },
    {
      "cell_type": "code",
      "execution_count": null,
      "id": "69864a42",
      "metadata": {
        "id": "69864a42"
      },
      "outputs": [],
      "source": [
        "def sort(phbk):\n",
        "    for j in range(len(phbk)): #initially snapped is false\n",
        "        swapped = False\n",
        "        i=0\n",
        "        while i < len(phbk) -1: #comparing the adjacent elements\n",
        "            if phbk[i][0] > phbk[i+1][0]: #swapping\n",
        "                phbk[i], phbk[i + 1] = phbk[i+1], phbk[i]\n",
        "                swapped = True\n",
        "            i=i+1\n",
        "        if not swapped:\n",
        "            break\n",
        "    print(\"** after Sorting the data in phonebook...**\")\n",
        "    print(phbk)"
      ]
    },
    {
      "cell_type": "markdown",
      "id": "cecc53e4",
      "metadata": {
        "id": "cecc53e4"
      },
      "source": [
        "***"
      ]
    },
    {
      "cell_type": "markdown",
      "id": "f0f0a869",
      "metadata": {
        "id": "f0f0a869"
      },
      "source": [
        "##### Function to insert record in Phone book"
      ]
    },
    {
      "cell_type": "code",
      "execution_count": null,
      "id": "499cbe25",
      "metadata": {
        "id": "499cbe25"
      },
      "outputs": [],
      "source": [
        "def insert(phpk, x1):\n",
        "    c = [x1]\n",
        "    mob = int(input(\"Enter mobile number of your friend:\"))\n",
        "    c.append(mob)\n",
        "    print(c)\n",
        "    phbk.append(c)\n",
        "    print(phbk)\n",
        "    print(\"But for Binary and fibbonacci search record must be in sorted order in Phone book\")\n",
        "    sort(phbk)"
      ]
    },
    {
      "cell_type": "markdown",
      "id": "532bf652",
      "metadata": {
        "id": "532bf652"
      },
      "source": [
        "***"
      ]
    },
    {
      "cell_type": "markdown",
      "id": "e4b001f6",
      "metadata": {
        "id": "e4b001f6"
      },
      "source": [
        "##### Function for fibosearch"
      ]
    },
    {
      "cell_type": "code",
      "execution_count": null,
      "id": "c40d2e1e",
      "metadata": {
        "id": "c40d2e1e"
      },
      "outputs": [],
      "source": [
        "def fibSearch (arr, x, n):\n",
        "    f2=0\n",
        "    f1=1\n",
        "    fibM= f2+f1\n",
        "    while (fibM<n):\n",
        "        f2 = f1\n",
        "        f1 = fibM\n",
        "        fibM = f2 + f1\n",
        "    offset=-1\n",
        "    while (fibM > 1):\n",
        "        i = min(offset +f2, n - 1)\n",
        "        if arr[i][0] < x:\n",
        "            fibM = f1\n",
        "            f1 = f2\n",
        "            f2= fibM - f1\n",
        "        elif arr[i][0] > x:\n",
        "            fibM= f2\n",
        "            f1=f1-f2\n",
        "            f2=fibM-f1\n",
        "        else:\n",
        "            return i\n",
        "        if f1 and arr[offset+1][0]==x:\n",
        "            return offset +1\n",
        "    return -1"
      ]
    },
    {
      "cell_type": "markdown",
      "id": "709b41b6",
      "metadata": {
        "id": "709b41b6"
      },
      "source": [
        "***"
      ]
    },
    {
      "cell_type": "markdown",
      "id": "f4b1a6b7",
      "metadata": {
        "id": "f4b1a6b7"
      },
      "source": [
        "### Main function"
      ]
    },
    {
      "cell_type": "code",
      "execution_count": null,
      "id": "b14274b7",
      "metadata": {
        "scrolled": true,
        "id": "b14274b7",
        "outputId": "61968636-ba58-4572-a636-bf9ec5f31e71"
      },
      "outputs": [
        {
          "name": "stdout",
          "output_type": "stream",
          "text": [
            "How Many Friends you have : 2\n",
            "\n",
            "0)\n",
            "Enter your friend name : a\n",
            "Enter your friends phone number : 1\n",
            "\n",
            "1)\n",
            "Enter your friend name : s\n",
            "Enter your friends phone number : 2\n",
            "Phone book records : \n",
            "['a', '1']\n",
            "['s', '2']\n",
            "Do you want to continue : (n=exit) : a\n",
            "Enter friend name u want to search: a\n",
            "a\n",
            "\n",
            "1. Binary search\n",
            "2. Fibonacci search\n",
            "\n",
            "Enter Choice : 2\n",
            "a is present at index 0 in phonebook\n",
            "Do you want to continue : (n=exit) : \n",
            "Enter friend name u want to search: a\n",
            "a\n",
            "\n",
            "1. Binary search\n",
            "2. Fibonacci search\n",
            "\n",
            "Enter Choice : 1\n",
            "a is present at index 0 in phonebook\n",
            "Do you want to continue : (n=exit) : n\n"
          ]
        }
      ],
      "source": [
        "fri_count = int(input(\"How Many Friends you have : \"))\n",
        "phbk=[]\n",
        "for i in range(fri_count):\n",
        "    print(\"\\n\", i, sep=\"\", end=\")\\n\")\n",
        "    phbk.append([\n",
        "            input(\"Enter your friend name : \"),\n",
        "            input(\"Enter your friends phone number : \")\n",
        "    ])\n",
        "print(\"Phone book records : \")\n",
        "for i in phbk:\n",
        "    print(i)\n",
        "    \n",
        "while \"n\" not in input(\"Do you want to continue : (n=exit) : \"):\n",
        "    x = input(\"Enter friend name u want to search: \")\n",
        "    x1 = x.lower() # user flexiblity in case user enter in capital form\n",
        "    print(x1)\n",
        "\n",
        "    print(\"\"\"\n",
        "1. Binary search\n",
        "2. Fibonacci search\n",
        "\"\"\")\n",
        "    match int(input(\"Enter Choice : \")):\n",
        "        case 1:\n",
        "            result = BinSearch(phbk, 0, len(phbk) - 1, x1)\n",
        "        case 2:\n",
        "            result = fibSearch(phbk, x1, fri_count)\n",
        "\n",
        "    if result !=-1:\n",
        "        print(x1, \"is present at index\", str(result),\"in phonebook\", )\n",
        "    else:\n",
        "        print(x1, \"is not present in Phonebook\")\n",
        "        print(\"Friend\", x1, \"is now inserted in phonebook.\")\n",
        "        insert(phbk, x1)\n",
        "        print(\"Friend\", x1, \"info added successfully in phone book....\")"
      ]
    },
    {
      "cell_type": "markdown",
      "id": "8010a26b",
      "metadata": {
        "id": "8010a26b"
      },
      "source": [
        "***"
      ]
    }
  ],
  "metadata": {
    "kernelspec": {
      "display_name": "Python 3 (ipykernel)",
      "language": "python",
      "name": "python3"
    },
    "language_info": {
      "codemirror_mode": {
        "name": "ipython",
        "version": 3
      },
      "file_extension": ".py",
      "mimetype": "text/x-python",
      "name": "python",
      "nbconvert_exporter": "python",
      "pygments_lexer": "ipython3",
      "version": "3.10.6"
    },
    "colab": {
      "provenance": []
    }
  },
  "nbformat": 4,
  "nbformat_minor": 5
}