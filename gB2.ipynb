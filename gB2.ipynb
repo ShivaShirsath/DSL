{
  "cells": [
    {
      "cell_type": "markdown",
      "id": "f444479f",
      "metadata": {
        "id": "f444479f"
      },
      "source": [
        "Write a python program to store marks stored in subject \"Fundamentals of Data Structure\" by N students in the class. Write functions to compute following:\n",
        "\n",
        "    1. The average score of the class.\n",
        "    2. Highest score and lowest score of the class.\n",
        "    3. Count of students who were absent for the test.\n",
        "    4. Display mark with highest frequency."
      ]
    },
    {
      "cell_type": "markdown",
      "id": "3f50d57b",
      "metadata": {
        "id": "3f50d57b"
      },
      "source": [
        "***"
      ]
    },
    {
      "cell_type": "markdown",
      "id": "933828c5",
      "metadata": {
        "id": "933828c5"
      },
      "source": [
        "##### Function for average score of the class"
      ]
    },
    {
      "cell_type": "code",
      "execution_count": null,
      "id": "e14b51a5",
      "metadata": {
        "id": "e14b51a5"
      },
      "outputs": [],
      "source": [
        "def average(listofmarks):\n",
        "    sum=0\n",
        "    count=0\n",
        "    for i in range(len(listofmarks)):\n",
        "        if listofmarks[i]!=-999:\n",
        "            sum+=listofmarks[i]\n",
        "            count+=1\n",
        "    avg=sum/count\n",
        "    print(\"Total Marks : \", sum)\n",
        "    print(\"Average Marks : {:.2f}\".format(avg))"
      ]
    },
    {
      "cell_type": "markdown",
      "id": "adcb36eb",
      "metadata": {
        "id": "adcb36eb"
      },
      "source": [
        "***"
      ]
    },
    {
      "cell_type": "markdown",
      "id": "d4533bf4",
      "metadata": {
        "id": "d4533bf4"
      },
      "source": [
        "##### Function for Highest score in the test for the class"
      ]
    },
    {
      "cell_type": "code",
      "execution_count": null,
      "id": "a56e9a83",
      "metadata": {
        "id": "a56e9a83"
      },
      "outputs": [],
      "source": []
    },
    {
      "cell_type": "markdown",
      "id": "a777ad16",
      "metadata": {
        "id": "a777ad16"
      },
      "source": [
        "***"
      ]
    },
    {
      "cell_type": "markdown",
      "id": "f0f0a869",
      "metadata": {
        "id": "f0f0a869"
      },
      "source": [
        "##### Function for Highest score in the test for the class"
      ]
    },
    {
      "cell_type": "code",
      "execution_count": null,
      "id": "499cbe25",
      "metadata": {
        "id": "499cbe25"
      },
      "outputs": [],
      "source": []
    },
    {
      "cell_type": "markdown",
      "id": "cecc53e4",
      "metadata": {
        "id": "cecc53e4"
      },
      "source": [
        "***"
      ]
    },
    {
      "cell_type": "markdown",
      "id": "b8bc46dc",
      "metadata": {
        "id": "b8bc46dc"
      },
      "source": [
        "##### Function for Highest score in the test for the class"
      ]
    },
    {
      "cell_type": "code",
      "execution_count": null,
      "id": "69864a42",
      "metadata": {
        "id": "69864a42"
      },
      "outputs": [],
      "source": []
    },
    {
      "cell_type": "markdown",
      "id": "532bf652",
      "metadata": {
        "id": "532bf652"
      },
      "source": [
        "***"
      ]
    },
    {
      "cell_type": "markdown",
      "id": "2457d7de",
      "metadata": {
        "id": "2457d7de"
      },
      "source": [
        "##### Function for Highest score in the test for the class"
      ]
    },
    {
      "cell_type": "code",
      "execution_count": null,
      "id": "38580afa",
      "metadata": {
        "id": "38580afa"
      },
      "outputs": [],
      "source": []
    },
    {
      "cell_type": "markdown",
      "id": "d320e6da",
      "metadata": {
        "id": "d320e6da"
      },
      "source": [
        "***"
      ]
    },
    {
      "cell_type": "markdown",
      "id": "f4b1a6b7",
      "metadata": {
        "id": "f4b1a6b7"
      },
      "source": [
        "##### Function for Highest score in the test for the class"
      ]
    },
    {
      "cell_type": "code",
      "execution_count": null,
      "id": "b14274b7",
      "metadata": {
        "id": "b14274b7"
      },
      "outputs": [],
      "source": []
    },
    {
      "cell_type": "markdown",
      "id": "8010a26b",
      "metadata": {
        "id": "8010a26b"
      },
      "source": [
        "***"
      ]
    },
    {
      "cell_type": "markdown",
      "id": "0ea113de",
      "metadata": {
        "id": "0ea113de"
      },
      "source": [
        "##### Function for average score of the class"
      ]
    },
    {
      "cell_type": "code",
      "execution_count": null,
      "id": "e8e32696",
      "metadata": {
        "id": "e8e32696"
      },
      "outputs": [],
      "source": []
    },
    {
      "cell_type": "markdown",
      "id": "5fb0cc56",
      "metadata": {
        "id": "5fb0cc56"
      },
      "source": [
        "***"
      ]
    },
    {
      "cell_type": "markdown",
      "id": "02311488",
      "metadata": {
        "id": "02311488"
      },
      "source": [
        "##### Function for average score of the class"
      ]
    },
    {
      "cell_type": "code",
      "execution_count": null,
      "id": "cef5ffec",
      "metadata": {
        "id": "cef5ffec"
      },
      "outputs": [],
      "source": []
    },
    {
      "cell_type": "markdown",
      "id": "3c19e338",
      "metadata": {
        "id": "3c19e338"
      },
      "source": [
        "***"
      ]
    },
    {
      "cell_type": "markdown",
      "id": "73214eaa",
      "metadata": {
        "id": "73214eaa"
      },
      "source": [
        "##### Function for average score of the class"
      ]
    },
    {
      "cell_type": "code",
      "execution_count": null,
      "id": "1adb1507",
      "metadata": {
        "id": "1adb1507"
      },
      "outputs": [],
      "source": []
    },
    {
      "cell_type": "markdown",
      "id": "035b0c77",
      "metadata": {
        "id": "035b0c77"
      },
      "source": [
        "***"
      ]
    },
    {
      "cell_type": "markdown",
      "id": "0426925b",
      "metadata": {
        "id": "0426925b"
      },
      "source": [
        "##### Function for average score of the class"
      ]
    },
    {
      "cell_type": "code",
      "execution_count": null,
      "id": "7d945d64",
      "metadata": {
        "id": "7d945d64"
      },
      "outputs": [],
      "source": []
    },
    {
      "cell_type": "markdown",
      "id": "ad5a4fe8",
      "metadata": {
        "id": "ad5a4fe8"
      },
      "source": [
        "***"
      ]
    },
    {
      "cell_type": "markdown",
      "id": "e4b001f6",
      "metadata": {
        "id": "e4b001f6"
      },
      "source": [
        "##### Function for average score of the class"
      ]
    },
    {
      "cell_type": "code",
      "execution_count": null,
      "id": "c40d2e1e",
      "metadata": {
        "id": "c40d2e1e"
      },
      "outputs": [],
      "source": []
    },
    {
      "cell_type": "markdown",
      "id": "b1b8c922",
      "metadata": {
        "id": "b1b8c922"
      },
      "source": [
        "***"
      ]
    },
    {
      "cell_type": "markdown",
      "id": "93e87a63",
      "metadata": {
        "id": "93e87a63"
      },
      "source": [
        "##### Function for average score of the class"
      ]
    },
    {
      "cell_type": "code",
      "execution_count": null,
      "id": "8bcdaba6",
      "metadata": {
        "id": "8bcdaba6"
      },
      "outputs": [],
      "source": []
    },
    {
      "cell_type": "markdown",
      "id": "04e1bcfb",
      "metadata": {
        "id": "04e1bcfb"
      },
      "source": [
        "***"
      ]
    },
    {
      "cell_type": "markdown",
      "id": "aa8458a2",
      "metadata": {
        "id": "aa8458a2"
      },
      "source": [
        "##### Function for average score of the class"
      ]
    },
    {
      "cell_type": "code",
      "execution_count": null,
      "id": "f4f8e636",
      "metadata": {
        "id": "f4f8e636"
      },
      "outputs": [],
      "source": []
    },
    {
      "cell_type": "markdown",
      "id": "53857148",
      "metadata": {
        "id": "53857148"
      },
      "source": [
        "***"
      ]
    },
    {
      "cell_type": "markdown",
      "id": "ec21aa7e",
      "metadata": {
        "id": "ec21aa7e"
      },
      "source": [
        "##### Function for average score of the class"
      ]
    },
    {
      "cell_type": "code",
      "execution_count": null,
      "id": "75659f66",
      "metadata": {
        "id": "75659f66"
      },
      "outputs": [],
      "source": []
    },
    {
      "cell_type": "markdown",
      "id": "9228ad4f",
      "metadata": {
        "id": "9228ad4f"
      },
      "source": [
        "***"
      ]
    },
    {
      "cell_type": "markdown",
      "id": "0b62dd88",
      "metadata": {
        "id": "0b62dd88"
      },
      "source": [
        "##### Function for average score of the class"
      ]
    },
    {
      "cell_type": "code",
      "execution_count": null,
      "id": "af3853f2",
      "metadata": {
        "id": "af3853f2"
      },
      "outputs": [],
      "source": []
    },
    {
      "cell_type": "markdown",
      "id": "06e38270",
      "metadata": {
        "id": "06e38270"
      },
      "source": [
        "##### Function for average score of the class"
      ]
    },
    {
      "cell_type": "code",
      "execution_count": null,
      "id": "2e490f55",
      "metadata": {
        "id": "2e490f55"
      },
      "outputs": [],
      "source": []
    },
    {
      "cell_type": "markdown",
      "id": "78173151",
      "metadata": {
        "id": "78173151"
      },
      "source": [
        "##### Function for average score of the class"
      ]
    },
    {
      "cell_type": "code",
      "execution_count": null,
      "id": "a76dda99",
      "metadata": {
        "id": "a76dda99"
      },
      "outputs": [],
      "source": []
    },
    {
      "cell_type": "markdown",
      "id": "ee7285b4",
      "metadata": {
        "id": "ee7285b4"
      },
      "source": [
        "##### Function for average score of the class"
      ]
    },
    {
      "cell_type": "code",
      "execution_count": null,
      "id": "5d6e10c4",
      "metadata": {
        "id": "5d6e10c4"
      },
      "outputs": [],
      "source": []
    }
  ],
  "metadata": {
    "kernelspec": {
      "display_name": "Python 3 (ipykernel)",
      "language": "python",
      "name": "python3"
    },
    "language_info": {
      "codemirror_mode": {
        "name": "ipython",
        "version": 3
      },
      "file_extension": ".py",
      "mimetype": "text/x-python",
      "name": "python",
      "nbconvert_exporter": "python",
      "pygments_lexer": "ipython3",
      "version": "3.10.6"
    },
    "colab": {
      "provenance": []
    }
  },
  "nbformat": 4,
  "nbformat_minor": 5
}