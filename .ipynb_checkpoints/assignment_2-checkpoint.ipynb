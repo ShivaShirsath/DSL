{
 "cells": [
  {
   "cell_type": "markdown",
   "id": "9d9bf116",
   "metadata": {},
   "source": [
    "Write a python program to store marks stored in subject \"Fundamentals of Data Structure\" by N students in the class. Write functions to compute following:\n",
    "\n",
    "    1. The average score of the class.\n",
    "    2. Highest score and lowest score of the class.\n",
    "    3. Count of students who were absent for the test.\n",
    "    4. Display mark with highest frequency."
   ]
  },
  {
   "cell_type": "markdown",
   "id": "135f43c1",
   "metadata": {},
   "source": [
    "***"
   ]
  },
  {
   "cell_type": "markdown",
   "id": "6600ce06",
   "metadata": {},
   "source": [
    "##### Function for average score of the class"
   ]
  },
  {
   "cell_type": "code",
   "execution_count": 1,
   "id": "b05a4139",
   "metadata": {},
   "outputs": [],
   "source": [
    "def average(listofmarks):\n",
    "    sum=0\n",
    "    count=0\n",
    "    for i in range(len(listofmarks)):\n",
    "        if listofmarks[i]!=-999:\n",
    "            sum+=listofmarks[i]\n",
    "            count+=1\n",
    "    avg=sum/count\n",
    "    print(\"Total Marks : \", sum)\n",
    "    print(\"Average Marks : {:.2f}\".format(avg))"
   ]
  },
  {
   "cell_type": "markdown",
   "id": "6cebda89",
   "metadata": {},
   "source": [
    "***"
   ]
  },
  {
   "cell_type": "markdown",
   "id": "44105814",
   "metadata": {},
   "source": [
    "##### Function for Highest score in the test for the class"
   ]
  },
  {
   "cell_type": "code",
   "execution_count": 1,
   "id": "7068e930",
   "metadata": {},
   "outputs": [],
   "source": [
    "def Maximum(listofmarks):\n",
    "    for i in range(len(listofmarks)):\n",
    "        if listofmarks[i]!=-999:\n",
    "            Max=listofmarks[0]\n",
    "            break\n",
    "    for i in range(1,len(listofmarks)):\n",
    "        if listofmarks[i]>Max:\n",
    "            Max=listofmarks[i]\n",
    "    return(Max)"
   ]
  },
  {
   "cell_type": "markdown",
   "id": "c02e9db9",
   "metadata": {},
   "source": [
    "***"
   ]
  },
  {
   "cell_type": "markdown",
   "id": "248afece",
   "metadata": {},
   "source": [
    "##### # Function for Lowest score in the test for the class"
   ]
  },
  {
   "cell_type": "markdown",
   "id": "9768242e",
   "metadata": {},
   "source": [
    "##### Function for Highest score in the test for the class"
   ]
  },
  {
   "cell_type": "code",
   "execution_count": null,
   "id": "b9284913",
   "metadata": {},
   "outputs": [],
   "source": []
  },
  {
   "cell_type": "markdown",
   "id": "608a2ac8",
   "metadata": {},
   "source": [
    "***"
   ]
  },
  {
   "cell_type": "code",
   "execution_count": null,
   "id": "180a9e75",
   "metadata": {},
   "outputs": [],
   "source": []
  },
  {
   "cell_type": "markdown",
   "id": "37729980",
   "metadata": {},
   "source": [
    "***"
   ]
  },
  {
   "cell_type": "code",
   "execution_count": null,
   "id": "812bcd14",
   "metadata": {},
   "outputs": [],
   "source": []
  },
  {
   "cell_type": "markdown",
   "id": "2f98b6fc",
   "metadata": {},
   "source": [
    "***"
   ]
  },
  {
   "cell_type": "code",
   "execution_count": null,
   "id": "10d54784",
   "metadata": {},
   "outputs": [],
   "source": []
  },
  {
   "cell_type": "markdown",
   "id": "3c4d94ad",
   "metadata": {},
   "source": [
    "***"
   ]
  },
  {
   "cell_type": "markdown",
   "id": "84b48503",
   "metadata": {},
   "source": [
    "##### Function for average score of the class"
   ]
  },
  {
   "cell_type": "code",
   "execution_count": null,
   "id": "6e013139",
   "metadata": {},
   "outputs": [],
   "source": []
  },
  {
   "cell_type": "markdown",
   "id": "20102316",
   "metadata": {},
   "source": [
    "***"
   ]
  },
  {
   "cell_type": "markdown",
   "id": "453bc4e5",
   "metadata": {},
   "source": [
    "##### Function for average score of the class"
   ]
  },
  {
   "cell_type": "code",
   "execution_count": null,
   "id": "e0ba6495",
   "metadata": {},
   "outputs": [],
   "source": []
  },
  {
   "cell_type": "markdown",
   "id": "8affe816",
   "metadata": {},
   "source": [
    "***"
   ]
  },
  {
   "cell_type": "markdown",
   "id": "3c7408e5",
   "metadata": {},
   "source": [
    "##### Function for average score of the class"
   ]
  },
  {
   "cell_type": "code",
   "execution_count": null,
   "id": "bf6165d9",
   "metadata": {},
   "outputs": [],
   "source": []
  },
  {
   "cell_type": "markdown",
   "id": "4c834c40",
   "metadata": {},
   "source": [
    "***"
   ]
  },
  {
   "cell_type": "markdown",
   "id": "32a52ec7",
   "metadata": {},
   "source": [
    "##### Function for average score of the class"
   ]
  },
  {
   "cell_type": "code",
   "execution_count": null,
   "id": "fae0c83b",
   "metadata": {},
   "outputs": [],
   "source": []
  },
  {
   "cell_type": "markdown",
   "id": "e9388a91",
   "metadata": {},
   "source": [
    "***"
   ]
  },
  {
   "cell_type": "markdown",
   "id": "cc2ce6b9",
   "metadata": {},
   "source": [
    "##### Function for average score of the class"
   ]
  },
  {
   "cell_type": "code",
   "execution_count": null,
   "id": "a909084a",
   "metadata": {},
   "outputs": [],
   "source": []
  },
  {
   "cell_type": "markdown",
   "id": "67dcedaf",
   "metadata": {},
   "source": [
    "***"
   ]
  },
  {
   "cell_type": "markdown",
   "id": "3f8d1f1b",
   "metadata": {},
   "source": [
    "##### Function for average score of the class"
   ]
  },
  {
   "cell_type": "code",
   "execution_count": null,
   "id": "d9afe9c1",
   "metadata": {},
   "outputs": [],
   "source": []
  },
  {
   "cell_type": "markdown",
   "id": "5eec09b4",
   "metadata": {},
   "source": [
    "***"
   ]
  },
  {
   "cell_type": "markdown",
   "id": "6fe75014",
   "metadata": {},
   "source": [
    "##### Function for average score of the class"
   ]
  },
  {
   "cell_type": "code",
   "execution_count": null,
   "id": "65f39b28",
   "metadata": {},
   "outputs": [],
   "source": []
  },
  {
   "cell_type": "markdown",
   "id": "acd530b5",
   "metadata": {},
   "source": [
    "***"
   ]
  },
  {
   "cell_type": "markdown",
   "id": "a6d8f8f6",
   "metadata": {},
   "source": [
    "##### Function for average score of the class"
   ]
  },
  {
   "cell_type": "markdown",
   "id": "94b2555f",
   "metadata": {},
   "source": [
    "***"
   ]
  },
  {
   "cell_type": "markdown",
   "id": "8c4da99a",
   "metadata": {},
   "source": [
    "##### Function for average score of the class"
   ]
  },
  {
   "cell_type": "code",
   "execution_count": null,
   "id": "d537b87e",
   "metadata": {},
   "outputs": [],
   "source": []
  },
  {
   "cell_type": "markdown",
   "id": "0b315e00",
   "metadata": {},
   "source": [
    "##### Function for average score of the class"
   ]
  },
  {
   "cell_type": "code",
   "execution_count": null,
   "id": "6907aa90",
   "metadata": {},
   "outputs": [],
   "source": []
  },
  {
   "cell_type": "markdown",
   "id": "c8902ced",
   "metadata": {},
   "source": [
    "##### Function for average score of the class"
   ]
  },
  {
   "cell_type": "code",
   "execution_count": null,
   "id": "9cf1b3e9",
   "metadata": {},
   "outputs": [],
   "source": []
  },
  {
   "cell_type": "markdown",
   "id": "6ad07a50",
   "metadata": {},
   "source": [
    "##### Function for average score of the class"
   ]
  },
  {
   "cell_type": "code",
   "execution_count": null,
   "id": "4fd5e53f",
   "metadata": {},
   "outputs": [],
   "source": []
  }
 ],
 "metadata": {
  "kernelspec": {
   "display_name": "Python 3 (ipykernel)",
   "language": "python",
   "name": "python3"
  },
  "language_info": {
   "codemirror_mode": {
    "name": "ipython",
    "version": 3
   },
   "file_extension": ".py",
   "mimetype": "text/x-python",
   "name": "python",
   "nbconvert_exporter": "python",
   "pygments_lexer": "ipython3",
   "version": "3.10.6"
  }
 },
 "nbformat": 4,
 "nbformat_minor": 5
}
