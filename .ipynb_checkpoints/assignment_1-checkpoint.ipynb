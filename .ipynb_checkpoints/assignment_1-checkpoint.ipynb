{
 "cells": [
  {
   "cell_type": "markdown",
   "id": "2d58fccf",
   "metadata": {},
   "source": [
    "In second year computer engineering class, group A student’s play cricket, group B \n",
    "students play badminton and group C students play football. \n",
    "\n",
    "\n",
    "Write a Python program using functions to compute following: -\n",
    "\n",
    "    1. List of students who play both cricket and badminton \n",
    "    2. List of students who play either cricket or badminton but not both \n",
    "    3. Number of students who play neither cricket nor badminton\n",
    "    4. Number of students who play cricket and football but not badminton.\n",
    "\n",
    "(Note- While realizing the group, duplicate entries should be avoided, Do not use SET \n",
    "built-in functions)"
   ]
  },
  {
   "cell_type": "markdown",
   "id": "24e6c88c",
   "metadata": {},
   "source": [
    "***"
   ]
  },
  {
   "cell_type": "markdown",
   "id": "194225c3",
   "metadata": {},
   "source": [
    "##### Function for removing duplicate entries from the group"
   ]
  },
  {
   "cell_type": "code",
   "execution_count": 1,
   "id": "64b1ea3c",
   "metadata": {},
   "outputs": [],
   "source": [
    "def removeDuplicate(d):\n",
    "    lst=[]\n",
    "    for i in d:\n",
    "        if i not in lst:\n",
    "            lst.append(i)\n",
    "    return lst"
   ]
  },
  {
   "cell_type": "markdown",
   "id": "9aba221e",
   "metadata": {},
   "source": [
    "***"
   ]
  },
  {
   "cell_type": "markdown",
   "id": "bcef4158",
   "metadata": {},
   "source": [
    "##### Function for finding intersection between two sets (A&B)"
   ]
  },
  {
   "cell_type": "code",
   "execution_count": 2,
   "id": "f28b63a0",
   "metadata": {},
   "outputs": [],
   "source": [
    "def intersection(lst1,lst2):\n",
    "    lst3=[]\n",
    "    for val in lst1:\n",
    "        if val in lst2:\n",
    "            lst3.append(val)\n",
    "    return lst3"
   ]
  },
  {
   "cell_type": "markdown",
   "id": "fed88695",
   "metadata": {},
   "source": [
    "***"
   ]
  },
  {
   "cell_type": "markdown",
   "id": "c9812087",
   "metadata": {},
   "source": [
    "##### Function for finding union of two sets (A|B)"
   ]
  },
  {
   "cell_type": "code",
   "execution_count": 3,
   "id": "4455c109",
   "metadata": {},
   "outputs": [],
   "source": [
    "def union(lst1,lst2):\n",
    "    lst3=lst1.copy()\n",
    "    for val in lst2:\n",
    "        if val not in lst3:\n",
    "            lst3.append(val)\n",
    "    return lst3"
   ]
  },
  {
   "cell_type": "markdown",
   "id": "bec2db36",
   "metadata": {},
   "source": [
    "***"
   ]
  },
  {
   "cell_type": "markdown",
   "id": "6541d45a",
   "metadata": {},
   "source": [
    "##### Function for finding difference between two sets (A-B)"
   ]
  },
  {
   "cell_type": "code",
   "execution_count": 4,
   "id": "442b123a",
   "metadata": {},
   "outputs": [],
   "source": [
    "def diff(lst1,lst2):\n",
    "    lst3=[]\n",
    "    for val in lst1:\n",
    "        if val not in lst2:\n",
    "            lst3.append(val)\n",
    "    return lst3\n"
   ]
  },
  {
   "cell_type": "markdown",
   "id": "ffa67ace",
   "metadata": {},
   "source": [
    "***"
   ]
  },
  {
   "cell_type": "markdown",
   "id": "06092e8f",
   "metadata": {},
   "source": [
    "##### Function for finding symmetric difference of two sets (A^B)"
   ]
  },
  {
   "cell_type": "code",
   "execution_count": 5,
   "id": "3c5a694a",
   "metadata": {},
   "outputs": [],
   "source": [
    "def sym_diff(lst1,lst2):\n",
    "    lst3=[]\n",
    "    D1=diff(lst1,lst2)\n",
    "    print(\"Difference between Cricket and Badminton (C-B) is : \", D1)\n",
    "    D2=diff(lst2,lst1)\n",
    "    print(\"Difference between Badminton and Cricket (B-C) is : \", D2)\n",
    "    lst3=union(D1,D2)\n",
    "    return lst3"
   ]
  },
  {
   "cell_type": "markdown",
   "id": "efb03e9a",
   "metadata": {},
   "source": [
    "***"
   ]
  },
  {
   "cell_type": "markdown",
   "id": "0d7f9e22",
   "metadata": {},
   "source": [
    "##### Functon for finding List of students who play both cricket and badminton"
   ]
  },
  {
   "cell_type": "code",
   "execution_count": 6,
   "id": "4e087662",
   "metadata": {},
   "outputs": [],
   "source": [
    "def CB(lst1,lst2):\n",
    "    lst3=intersection(lst1,lst2)\n",
    "    print(\"\\n\\nList of students who play both cricket and badminton is : \", lst3)\n",
    "    return len(lst3)\n"
   ]
  },
  {
   "cell_type": "markdown",
   "id": "ee7ababc",
   "metadata": {},
   "source": [
    "***"
   ]
  },
  {
   "cell_type": "markdown",
   "id": "0d76f1aa",
   "metadata": {},
   "source": [
    "##### Function for finding List of students who play either cricket or badminton but not both"
   ]
  },
  {
   "cell_type": "code",
   "execution_count": 7,
   "id": "a7ac85ae",
   "metadata": {},
   "outputs": [],
   "source": [
    "def eCeB(lst1,lst2):\n",
    "    lst3=sym_diff(lst1,lst2)\n",
    "    print(\"\\nList of students who play either cricket or badminton but not both is : \",lst3)\n",
    "    return len(lst3)"
   ]
  },
  {
   "cell_type": "markdown",
   "id": "4a453062",
   "metadata": {},
   "source": [
    "***"
   ]
  },
  {
   "cell_type": "markdown",
   "id": "6da36cba",
   "metadata": {},
   "source": [
    "##### Function for finding Number of students who play neither cricket nor badminton"
   ]
  },
  {
   "cell_type": "code",
   "execution_count": 8,
   "id": "81b2ee1e",
   "metadata": {},
   "outputs": [],
   "source": [
    "def nCnB(lst1,lst2,lst3):\n",
    "    lst4=diff(lst1,union(lst2,lst3))\n",
    "    print(\"\\n\\nList of students who play neither cricket nor badminton is : \",lst4)\n",
    "    return len(lst4)"
   ]
  },
  {
   "cell_type": "markdown",
   "id": "348573e9",
   "metadata": {},
   "source": [
    "***"
   ]
  },
  {
   "cell_type": "markdown",
   "id": "2bb4a794",
   "metadata": {},
   "source": [
    "##### Function for finding Number of students who play cricket and football but not badminton"
   ]
  },
  {
   "cell_type": "code",
   "execution_count": 9,
   "id": "bab5cd38",
   "metadata": {},
   "outputs": [],
   "source": [
    "def CBnF(lst1,lst2,lst3):\n",
    "    lst4=diff(intersection(lst1,lst2),lst3)\n",
    "    print(\"\\n\\nList of students who play cricket and football but not badminton is : \",lst4)\n",
    "    return len(lst4)\n"
   ]
  },
  {
   "cell_type": "markdown",
   "id": "a05335ce",
   "metadata": {},
   "source": [
    "***\n",
    "***"
   ]
  },
  {
   "cell_type": "markdown",
   "id": "dc06f9fc",
   "metadata": {},
   "source": [
    "### Main function"
   ]
  },
  {
   "cell_type": "markdown",
   "id": "f1e5c3ec",
   "metadata": {},
   "source": [
    "***"
   ]
  },
  {
   "cell_type": "markdown",
   "id": "4381f0f1",
   "metadata": {},
   "source": [
    "##### Creating an empty list for SE COMP"
   ]
  },
  {
   "cell_type": "code",
   "execution_count": 10,
   "id": "8821a352",
   "metadata": {
    "scrolled": true
   },
   "outputs": [
    {
     "name": "stdout",
     "output_type": "stream",
     "text": [
      "\n",
      "Enter number of students in SE COMP: 9\n",
      "Enter the names of 9 students (Please press ENTER after entering each students name) :\n",
      "nisha\n",
      "navnath\n",
      "ganesh\n",
      "kalyan\n",
      "aditya\n",
      "krutika\n",
      "poonam\n",
      "aditi\n",
      "divya\n",
      "Original list of students in SEComp : ['nisha', 'navnath', 'ganesh', 'kalyan', 'aditya', 'krutika', 'poonam', 'aditi', 'divya']\n"
     ]
    }
   ],
   "source": [
    "SEComp = []\n",
    "n = int(input(\"\\nEnter number of students in SE COMP: \"))\n",
    "print(\"Enter the names of\",n,\"students (Please press ENTER after entering each students name) :\")\n",
    "for i in range(0, n):\n",
    "    ele = input()\n",
    "    SEComp.append(ele)  # adding the element\n",
    "print(\"Original list of students in SEComp : \" + str(SEComp))\n"
   ]
  },
  {
   "cell_type": "markdown",
   "id": "b63e237d",
   "metadata": {},
   "source": [
    "***"
   ]
  },
  {
   "cell_type": "markdown",
   "id": "7691445d",
   "metadata": {},
   "source": [
    "##### Creating an empty list for Cricket"
   ]
  },
  {
   "cell_type": "code",
   "execution_count": 11,
   "id": "03e927b9",
   "metadata": {
    "scrolled": true
   },
   "outputs": [
    {
     "name": "stdout",
     "output_type": "stream",
     "text": [
      "\n",
      "\n",
      "Enter number of students who play cricket : 5\n",
      "Enter the names of 5 students who play cricket (Please press ENTER after entering each students name) :\n",
      "nisha\n",
      "navnath\n",
      "ganesh\n",
      "kalyan\n",
      "aditya\n",
      "Original list of students playing cricket is :['nisha', 'navnath', 'ganesh', 'kalyan', 'aditya']\n",
      "The list of students playing cricket after removing duplicates : ['nisha', 'navnath', 'ganesh', 'kalyan', 'aditya']\n"
     ]
    }
   ],
   "source": [
    "Cricket = []\n",
    "n = int(input(\"\\n\\nEnter number of students who play cricket : \"))\n",
    "print(\"Enter the names of\",n,\"students who play cricket (Please press ENTER after entering each students name) :\")\n",
    "for i in range(0, n):\n",
    "    ele = input()\n",
    "    Cricket.append(ele)  # adding the element\n",
    "print(\"Original list of students playing cricket is :\" +str(Cricket))\n",
    "Cricket=removeDuplicate(Cricket)\n",
    "print(\"The list of students playing cricket after removing duplicates : \" +str(Cricket))\n"
   ]
  },
  {
   "cell_type": "markdown",
   "id": "3947e6db",
   "metadata": {},
   "source": [
    "***"
   ]
  },
  {
   "cell_type": "markdown",
   "id": "6f2d1153",
   "metadata": {},
   "source": [
    "##### Creating an empty list for Football"
   ]
  },
  {
   "cell_type": "code",
   "execution_count": 12,
   "id": "c41b92d4",
   "metadata": {},
   "outputs": [
    {
     "name": "stdout",
     "output_type": "stream",
     "text": [
      "\n",
      "\n",
      "Enter number of students who play football : 5\n",
      "Enter the name of 5 students who play football (Please press ENTER after entering each students name) :\n",
      "nisha\n",
      "navnath\n",
      "aditya\n",
      "krutika\n",
      "divya\n",
      "Original list of students playing football :['nisha', 'navnath', 'aditya', 'krutika', 'divya']\n",
      "The list of students playing football after removing duplicates : ['nisha', 'navnath', 'aditya', 'krutika', 'divya']\n"
     ]
    }
   ],
   "source": [
    "Football = []\n",
    "n = int(input(\"\\n\\nEnter number of students who play football : \"))\n",
    "print(\"Enter the name of\",n,\"students who play football (Please press ENTER after entering each students name) :\")\n",
    "for i in range(0, n):\n",
    "    ele = input()\n",
    "    Football.append(ele)  # adding the element\n",
    "print(\"Original list of students playing football :\" +str(Football))\n",
    "Football=removeDuplicate(Football)\n",
    "print(\"The list of students playing football after removing duplicates : \" +str(Football))"
   ]
  },
  {
   "cell_type": "markdown",
   "id": "8405a1ee",
   "metadata": {},
   "source": [
    "***"
   ]
  },
  {
   "cell_type": "markdown",
   "id": "07e44bd8",
   "metadata": {},
   "source": [
    "##### Creating an empty list for Badminton"
   ]
  },
  {
   "cell_type": "code",
   "execution_count": 13,
   "id": "185b5ea7",
   "metadata": {},
   "outputs": [
    {
     "name": "stdout",
     "output_type": "stream",
     "text": [
      "\n",
      "\n",
      "Enter number of students who play badminton : 5\n",
      "Enter the name of 5 students who play badminton (Please press ENTER after entering each students name) :\n",
      "kalyan\n",
      "aditya\n",
      "krutika\n",
      "poonam\n",
      "aditi\n",
      "Original list of students playing badminton :['kalyan', 'aditya', 'krutika', 'poonam', 'aditi']\n",
      "The list of students playing badminton after removing duplicates : ['kalyan', 'aditya', 'krutika', 'poonam', 'aditi']\n"
     ]
    }
   ],
   "source": [
    "Badminton = []\n",
    "n = int(input(\"\\n\\nEnter number of students who play badminton : \"))\n",
    "print(\"Enter the name of\",n,\"students who play badminton (Please press ENTER after entering each students name) :\")\n",
    "for i in range(0, n):\n",
    "    ele = input()\n",
    "    Badminton.append(ele)  # adding the element\n",
    "print(\"Original list of students playing badminton :\" +str(Badminton))\n",
    "Badminton=removeDuplicate(Badminton)\n",
    "print(\"The list of students playing badminton after removing duplicates : \" +str(Badminton))"
   ]
  },
  {
   "cell_type": "markdown",
   "id": "eb5a213e",
   "metadata": {},
   "source": [
    "***"
   ]
  },
  {
   "cell_type": "code",
   "execution_count": 14,
   "id": "b0f2521d",
   "metadata": {},
   "outputs": [
    {
     "name": "stdout",
     "output_type": "stream",
     "text": [
      "\n",
      "\n",
      "Do you want to continue (yes/no) :y\n",
      "\n",
      "\n",
      "--------------------MENU--------------------\n",
      "\n",
      "1. List of students who play both cricket and badminton\n",
      "2. List of students who play either cricket or badminton but not both\n",
      "3. List of students who play neither cricket nor badminton\n",
      "4. Number of students who play cricket and football but not badminton\n",
      "5. Exit\n",
      "\n",
      "Enter your Choice (from 1 to 5) :1\n",
      "\n",
      "\n",
      "List of students who play both cricket and badminton is :  ['kalyan', 'aditya']\n",
      "Number of students who play both cricket and badminton :  2\n",
      "\n",
      "\n",
      "Do you want to continue (yes/no) :y\n",
      "\n",
      "\n",
      "--------------------MENU--------------------\n",
      "\n",
      "1. List of students who play both cricket and badminton\n",
      "2. List of students who play either cricket or badminton but not both\n",
      "3. List of students who play neither cricket nor badminton\n",
      "4. Number of students who play cricket and football but not badminton\n",
      "5. Exit\n",
      "\n",
      "Enter your Choice (from 1 to 5) :2\n",
      "Difference between Cricket and Badminton (C-B) is :  ['nisha', 'navnath', 'ganesh']\n",
      "Difference between Badminton and Cricket (B-C) is :  ['krutika', 'poonam', 'aditi']\n",
      "\n",
      "List of students who play either cricket or badminton but not both is :  ['nisha', 'navnath', 'ganesh', 'krutika', 'poonam', 'aditi']\n",
      "Number of students who play either cricket or badminton but not both :  6\n",
      "\n",
      "\n",
      "Do you want to continue (yes/no) :y\n",
      "\n",
      "\n",
      "--------------------MENU--------------------\n",
      "\n",
      "1. List of students who play both cricket and badminton\n",
      "2. List of students who play either cricket or badminton but not both\n",
      "3. List of students who play neither cricket nor badminton\n",
      "4. Number of students who play cricket and football but not badminton\n",
      "5. Exit\n",
      "\n",
      "Enter your Choice (from 1 to 5) :3\n",
      "\n",
      "\n",
      "List of students who play neither cricket nor badminton is :  ['divya']\n",
      "Number of students who play neither cricket nor badminton :  1\n",
      "\n",
      "\n",
      "Do you want to continue (yes/no) :y\n",
      "\n",
      "\n",
      "Do you want to continue (yes/no) :y\n",
      "\n",
      "\n",
      "--------------------MENU--------------------\n",
      "\n",
      "1. List of students who play both cricket and badminton\n",
      "2. List of students who play either cricket or badminton but not both\n",
      "3. List of students who play neither cricket nor badminton\n",
      "4. Number of students who play cricket and football but not badminton\n",
      "5. Exit\n",
      "\n",
      "Enter your Choice (from 1 to 5) :4\n",
      "\n",
      "\n",
      "List of students who play cricket and football but not badminton is :  ['nisha', 'navnath']\n",
      "Number of students who play cricket and football but not badminton :  2\n",
      "\n",
      "\n",
      "Do you want to continue (yes/no) :n\n"
     ]
    }
   ],
   "source": [
    "while 'n' not in input(\"\\n\\nDo you want to continue (yes/no) :\"):\n",
    "    print(\"\\n\\n--------------------MENU--------------------\\n\")\n",
    "    print(\"1. List of students who play both cricket and badminton\")\n",
    "    print(\"2. List of students who play either cricket or badminton but not both\")\n",
    "    print(\"3. List of students who play neither cricket nor badminton\")\n",
    "    print(\"4. Number of students who play cricket and football but not badminton\")\n",
    "    print(\"5. Exit\\n\")\n",
    "    ch=int(input(\"Enter your Choice (from 1 to 5) :\"))\n",
    "\n",
    "    if ch==1:\n",
    "        print(\"Number of students who play both cricket and badminton : \", CB(Cricket,Badminton))\n",
    "    elif ch==2:\n",
    "        print(\"Number of students who play either cricket or badminton but not both : \", eCeB(Cricket, Badminton))\n",
    "    elif ch==3:\n",
    "        print(\"Number of students who play neither cricket nor badminton : \", nCnB(SEComp,Cricket,Badminton))\n",
    "        a = input(\"\\n\\nDo you want to continue (yes/no) :\")\n",
    "    elif ch==4:\n",
    "        print(\"Number of students who play cricket and football but not badminton : \", CBnF(Cricket,Football,Badminton))\n",
    "    elif ch==5:\n",
    "        print(\"Thank you, bye !!\")\n",
    "        break\n",
    "    else:\n",
    "        print(\"!! Wrong Choice !! \")"
   ]
  },
  {
   "cell_type": "markdown",
   "id": "e4815924",
   "metadata": {},
   "source": [
    "***"
   ]
  }
 ],
 "metadata": {
  "kernelspec": {
   "display_name": "Python 3 (ipykernel)",
   "language": "python",
   "name": "python3"
  },
  "language_info": {
   "codemirror_mode": {
    "name": "ipython",
    "version": 3
   },
   "file_extension": ".py",
   "mimetype": "text/x-python",
   "name": "python",
   "nbconvert_exporter": "python",
   "pygments_lexer": "ipython3",
   "version": "3.10.6"
  }
 },
 "nbformat": 4,
 "nbformat_minor": 5
}
