{
 "cells": [
  {
   "cell_type": "markdown",
   "id": "f444479f",
   "metadata": {},
   "source": [
    "a) Write a Python program to store roll numbers of student in array who attended training program in **random order**. Write function for searching whether particular student attended training program or not, using **Linear search** and **Sentinel search**.\n",
    "\n",
    "b) Write a Python program to store roll numbers of students array who attended training program in **sorted order**. Write function for searching whether particular student attended training program or not, using **Binary search** and **Fibonacci search**."
   ]
  },
  {
   "cell_type": "markdown",
   "id": "3f50d57b",
   "metadata": {},
   "source": [
    "***"
   ]
  },
  {
   "cell_type": "markdown",
   "id": "933828c5",
   "metadata": {},
   "source": [
    "##### Function for Linear search"
   ]
  },
  {
   "cell_type": "code",
   "execution_count": 1,
   "id": "e14b51a5",
   "metadata": {},
   "outputs": [],
   "source": [
    "def linear_search(a,target):\n",
    "    for i in range(len(a)):\n",
    "        if(a[i]==target):\n",
    "            print(\"Roll no.\",target,\"is present at index\",i)\n",
    "            break\n",
    "    else:\n",
    "        print(\"Roll no.\",target,\"not found in list\")"
   ]
  },
  {
   "cell_type": "markdown",
   "id": "adcb36eb",
   "metadata": {},
   "source": [
    "***"
   ]
  },
  {
   "cell_type": "markdown",
   "id": "d4533bf4",
   "metadata": {},
   "source": [
    "##### Function for Binary Search"
   ]
  },
  {
   "cell_type": "code",
   "execution_count": 1,
   "id": "a56e9a83",
   "metadata": {},
   "outputs": [],
   "source": [
    "def binary_search(a,target):\n",
    "    start=0\n",
    "    end=len(a)-1\n",
    "    while(start<=end):\n",
    "        mid=int((start+end)/2)\n",
    "        if(a[mid]==target):\n",
    "            print(\"Roll no.\",target,\"is present at index\",mid)\n",
    "            break\n",
    "        elif(target>a[mid]):\n",
    "            start=mid+1\n",
    "        elif(target<a[mid]):\n",
    "            end=mid-1\n",
    "    else:\n",
    "        print(\"Roll no.\",target,\"not found in list\")"
   ]
  },
  {
   "cell_type": "markdown",
   "id": "a777ad16",
   "metadata": {},
   "source": [
    "***"
   ]
  },
  {
   "cell_type": "markdown",
   "id": "f0f0a869",
   "metadata": {},
   "source": [
    "##### Function for sentinel search"
   ]
  },
  {
   "cell_type": "code",
   "execution_count": 2,
   "id": "499cbe25",
   "metadata": {},
   "outputs": [],
   "source": [
    "def sentinel_search(a,target):\n",
    "    a.append(target)\n",
    "    i=0\n",
    "    while(a[i]!=target):\n",
    "        i+=1\n",
    "    if(i<(len(a)-1)):\n",
    "        print(\"Roll no.\",target,\"is present at index\",i)\n",
    "    else:\n",
    "        print(\"Roll no.\",target,\"not found in list\")"
   ]
  },
  {
   "cell_type": "markdown",
   "id": "cecc53e4",
   "metadata": {},
   "source": [
    "***"
   ]
  },
  {
   "cell_type": "markdown",
   "id": "b8bc46dc",
   "metadata": {},
   "source": [
    "##### Function for fibonacci search"
   ]
  },
  {
   "cell_type": "code",
   "execution_count": 4,
   "id": "69864a42",
   "metadata": {},
   "outputs": [],
   "source": [
    "def fibonacci_search(a,target):\n",
    "    n=len(a)\n",
    "    fibn_2=0\n",
    "    fibn_1=1\n",
    "    fibn=fibn_1+fibn_2\n",
    "    while(fibn<=n):\n",
    "        fibn_2=fibn_1\n",
    "        fibn_1=fibn\n",
    "        fibn=fibn_1+fibn_2\n",
    "    offset=-1\n",
    "    while(fibn_1!=0):\n",
    "        i=min((offset+fibn_2),n-1)\n",
    "        if(target>a[i]):\n",
    "            fibn=fibn_1\n",
    "            fibn_1=fibn_2\n",
    "            fibn_2=fibn-fibn_1\n",
    "            offset=i\n",
    "        elif(target<a[i]):\n",
    "            fibn=fibn_2\n",
    "            fibn_1=fibn_1-fibn_2\n",
    "            fibn_2=fibn-fibn_1\n",
    "        elif(target==a[i]):\n",
    "            print(\"Roll no.\",target,\"is present at index\",i)\n",
    "            break\n",
    "    else:\n",
    "        print(\"Roll no.\",target,\"not found in list\")"
   ]
  },
  {
   "cell_type": "markdown",
   "id": "532bf652",
   "metadata": {},
   "source": [
    "***\n",
    "***"
   ]
  },
  {
   "cell_type": "markdown",
   "id": "2457d7de",
   "metadata": {},
   "source": [
    "### Main function"
   ]
  },
  {
   "cell_type": "code",
   "execution_count": 6,
   "id": "38580afa",
   "metadata": {},
   "outputs": [
    {
     "ename": "SyntaxError",
     "evalue": "invalid syntax (3620730088.py, line 22)",
     "output_type": "error",
     "traceback": [
      "\u001b[1;36m  Cell \u001b[1;32mIn [6], line 22\u001b[1;36m\u001b[0m\n\u001b[1;33m    match int(input(\"Enter the choice:\"):\u001b[0m\n\u001b[1;37m                                        ^\u001b[0m\n\u001b[1;31mSyntaxError\u001b[0m\u001b[1;31m:\u001b[0m invalid syntax\n"
     ]
    }
   ],
   "source": [
    "while \"n\" not in input(\"Do you want to continue (y/n):\"):\n",
    "    print(\"1.Sorted List Search\")\n",
    "    print(\"2.Unsorted List Search\")\n",
    "    \n",
    "    match int(input(\"Enter the Choice:\")):\n",
    "        case 1:\n",
    "            n = int(input(\"Enter number of students present : \"))\n",
    "            a=[]\n",
    "            for i in range(n):\n",
    "                elem=int(input(\"Enter the roll no. of student:\"))      \n",
    "                if(elem not in a):\n",
    "                    a.append(elem)\n",
    "                else:\n",
    "                    while(elem in a):\n",
    "                        print(\"Roll no. already present in the list!\")\n",
    "                        elem=int(input(\"Enter the roll no. of student again:\"))\n",
    "                        a.append(elem)\n",
    "            print(\"\\nThe roll no. of students present: \", a)\n",
    "            target=int(input(\"Enter the roll no. to be searched in list:\"))    \n",
    "            print(\"1.Binary Search\")\n",
    "            print(\"2.Fibonacci Search\")\n",
    "            match int(input(\"Enter the choice:\")):\n",
    "                case 1:\n",
    "                    binary_search(a,target)\n",
    "                case 2:\n",
    "                    fibonacci_search(a,target)\n",
    "        case 2:\n",
    "            n = int(input(\"Enter number of students present : \"))\n",
    "            a=[]\n",
    "            for i in range(n):\n",
    "                elem=int(input(\"Enter the roll no. of student:\"))      \n",
    "                if(elem not in a):\n",
    "                    a.append(elem)\n",
    "                else:\n",
    "                    while(elem in a):\n",
    "                        print(\"Roll no. already present in the list!\")\n",
    "                        elem=int(input(\"Enter the roll no. of student again:\"))\n",
    "                        a.append(elem)\n",
    "            print(\"\\nThe roll no. of students present: \", a)\n",
    "            target=int(input(\"Enter the roll no. to be searched in list:\"))    \n",
    "            print(\"1.Linear Search\")\n",
    "            print(\"2.Sentinel Search\")\n",
    "            \n",
    "            match int(input(\"Enter the choice:\"):\n",
    "                case 1:\n",
    "                    linear_search(a,target)\n",
    "                case 2:\n",
    "                    sentinel_search(a,target)\n",
    "    print(\"Thank You!!!\")"
   ]
  },
  {
   "cell_type": "markdown",
   "id": "d320e6da",
   "metadata": {},
   "source": [
    "***"
   ]
  },
  {
   "cell_type": "markdown",
   "id": "f4b1a6b7",
   "metadata": {},
   "source": [
    "##### Function for Highest score in the test for the class"
   ]
  },
  {
   "cell_type": "code",
   "execution_count": null,
   "id": "b14274b7",
   "metadata": {},
   "outputs": [],
   "source": []
  },
  {
   "cell_type": "markdown",
   "id": "8010a26b",
   "metadata": {},
   "source": [
    "***"
   ]
  },
  {
   "cell_type": "markdown",
   "id": "0ea113de",
   "metadata": {},
   "source": [
    "##### Function for average score of the class"
   ]
  },
  {
   "cell_type": "code",
   "execution_count": null,
   "id": "e8e32696",
   "metadata": {},
   "outputs": [],
   "source": []
  },
  {
   "cell_type": "markdown",
   "id": "5fb0cc56",
   "metadata": {},
   "source": [
    "***"
   ]
  },
  {
   "cell_type": "markdown",
   "id": "02311488",
   "metadata": {},
   "source": [
    "##### Function for average score of the class"
   ]
  },
  {
   "cell_type": "code",
   "execution_count": null,
   "id": "cef5ffec",
   "metadata": {},
   "outputs": [],
   "source": []
  },
  {
   "cell_type": "markdown",
   "id": "3c19e338",
   "metadata": {},
   "source": [
    "***"
   ]
  },
  {
   "cell_type": "markdown",
   "id": "73214eaa",
   "metadata": {},
   "source": [
    "##### Function for average score of the class"
   ]
  },
  {
   "cell_type": "code",
   "execution_count": null,
   "id": "1adb1507",
   "metadata": {},
   "outputs": [],
   "source": []
  },
  {
   "cell_type": "markdown",
   "id": "035b0c77",
   "metadata": {},
   "source": [
    "***"
   ]
  },
  {
   "cell_type": "markdown",
   "id": "0426925b",
   "metadata": {},
   "source": [
    "##### Function for average score of the class"
   ]
  },
  {
   "cell_type": "code",
   "execution_count": null,
   "id": "7d945d64",
   "metadata": {},
   "outputs": [],
   "source": []
  },
  {
   "cell_type": "markdown",
   "id": "ad5a4fe8",
   "metadata": {},
   "source": [
    "***"
   ]
  },
  {
   "cell_type": "markdown",
   "id": "e4b001f6",
   "metadata": {},
   "source": [
    "##### Function for average score of the class"
   ]
  },
  {
   "cell_type": "code",
   "execution_count": null,
   "id": "c40d2e1e",
   "metadata": {},
   "outputs": [],
   "source": []
  },
  {
   "cell_type": "markdown",
   "id": "b1b8c922",
   "metadata": {},
   "source": [
    "***"
   ]
  },
  {
   "cell_type": "markdown",
   "id": "93e87a63",
   "metadata": {},
   "source": [
    "##### Function for average score of the class"
   ]
  },
  {
   "cell_type": "code",
   "execution_count": null,
   "id": "8bcdaba6",
   "metadata": {},
   "outputs": [],
   "source": []
  },
  {
   "cell_type": "markdown",
   "id": "04e1bcfb",
   "metadata": {},
   "source": [
    "***"
   ]
  },
  {
   "cell_type": "markdown",
   "id": "aa8458a2",
   "metadata": {},
   "source": [
    "##### Function for average score of the class"
   ]
  },
  {
   "cell_type": "code",
   "execution_count": null,
   "id": "f4f8e636",
   "metadata": {},
   "outputs": [],
   "source": []
  },
  {
   "cell_type": "markdown",
   "id": "53857148",
   "metadata": {},
   "source": [
    "***"
   ]
  },
  {
   "cell_type": "markdown",
   "id": "ec21aa7e",
   "metadata": {},
   "source": [
    "##### Function for average score of the class"
   ]
  },
  {
   "cell_type": "code",
   "execution_count": null,
   "id": "75659f66",
   "metadata": {},
   "outputs": [],
   "source": []
  },
  {
   "cell_type": "markdown",
   "id": "9228ad4f",
   "metadata": {},
   "source": [
    "***"
   ]
  },
  {
   "cell_type": "markdown",
   "id": "0b62dd88",
   "metadata": {},
   "source": [
    "##### Function for average score of the class"
   ]
  },
  {
   "cell_type": "code",
   "execution_count": null,
   "id": "af3853f2",
   "metadata": {},
   "outputs": [],
   "source": []
  },
  {
   "cell_type": "markdown",
   "id": "06e38270",
   "metadata": {},
   "source": [
    "##### Function for average score of the class"
   ]
  },
  {
   "cell_type": "code",
   "execution_count": null,
   "id": "2e490f55",
   "metadata": {},
   "outputs": [],
   "source": []
  },
  {
   "cell_type": "markdown",
   "id": "78173151",
   "metadata": {},
   "source": [
    "##### Function for average score of the class"
   ]
  },
  {
   "cell_type": "code",
   "execution_count": null,
   "id": "a76dda99",
   "metadata": {},
   "outputs": [],
   "source": []
  },
  {
   "cell_type": "markdown",
   "id": "ee7285b4",
   "metadata": {},
   "source": [
    "##### Function for average score of the class"
   ]
  },
  {
   "cell_type": "code",
   "execution_count": null,
   "id": "5d6e10c4",
   "metadata": {},
   "outputs": [],
   "source": []
  }
 ],
 "metadata": {
  "kernelspec": {
   "display_name": "Python 3 (ipykernel)",
   "language": "python",
   "name": "python3"
  },
  "language_info": {
   "codemirror_mode": {
    "name": "ipython",
    "version": 3
   },
   "file_extension": ".py",
   "mimetype": "text/x-python",
   "name": "python",
   "nbconvert_exporter": "python",
   "pygments_lexer": "ipython3",
   "version": "3.10.6"
  }
 },
 "nbformat": 4,
 "nbformat_minor": 5
}
