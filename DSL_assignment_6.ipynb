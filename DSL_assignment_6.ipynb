{
  "metadata": {
    "kernelspec": {
      "name": "python",
      "display_name": "Python (Pyodide)",
      "language": "python"
    },
    "language_info": {
      "codemirror_mode": {
        "name": "python",
        "version": 3
      },
      "file_extension": ".py",
      "mimetype": "text/x-python",
      "name": "python",
      "nbconvert_exporter": "python",
      "pygments_lexer": "ipython3",
      "version": "3.8"
    },
    "colab": {
      "provenance": []
    }
  },
  "nbformat_minor": 5,
  "nbformat": 4,
  "cells": [
    {
      "cell_type": "markdown",
      "source": [
        "Write a python program to store first year percentage of students in an array.\n",
        "\n",
        "Write function for sorting array of floating point numbers in ascending order using:\n",
        "\n",
        "    a) Selection Sort\n",
        "    b) Bubble Sort and display top five scores"
      ],
      "metadata": {
        "id": "f444479f"
      },
      "id": "f444479f"
    },
    {
      "cell_type": "markdown",
      "source": [
        "***"
      ],
      "metadata": {
        "id": "3f50d57b"
      },
      "id": "3f50d57b"
    },
    {
      "cell_type": "markdown",
      "source": [
        "##### Function for Selection Sort of elements"
      ],
      "metadata": {
        "id": "933828c5"
      },
      "id": "933828c5"
    },
    {
      "cell_type": "code",
      "source": [
        "def Selection_Sort(marks):\n",
        "    for i in range(len(marks)):\n",
        "\n",
        "        min_idx = i\n",
        "        for j in range(i + 1, len(marks)):\n",
        "            if marks[min_idx] > marks[j]:\n",
        "                min_idx = j\n",
        "\n",
        "        marks[i], marks[min_idx] = marks[min_idx], marks[i]\n",
        "\n",
        "    print(\"Marks of students after performing Selection Sort on the list : \")\n",
        "    for i in range(len(marks)):\n",
        "        print(marks[i])"
      ],
      "metadata": {
        "trusted": true,
        "id": "e14b51a5"
      },
      "execution_count": 1,
      "outputs": [],
      "id": "e14b51a5"
    },
    {
      "cell_type": "markdown",
      "source": [
        "***"
      ],
      "metadata": {
        "id": "adcb36eb"
      },
      "id": "adcb36eb"
    },
    {
      "cell_type": "markdown",
      "source": [
        "##### Function for Bubble Sort of elements"
      ],
      "metadata": {
        "id": "d4533bf4"
      },
      "id": "d4533bf4"
    },
    {
      "cell_type": "code",
      "source": [
        "def Bubble_Sort(marks):\n",
        "    n = len(marks)\n",
        "    for i in range(n - 1):\n",
        "        for j in range(0, n - i - 1):\n",
        "            if marks[j] > marks[j + 1]:\n",
        "                marks[j], marks[j + 1] = marks[j + 1], marks[j]\n",
        "\n",
        "    print(\"Marks of students after performing Bubble Sort on the list :\")\n",
        "    for i in range(len(marks)):\n",
        "        print(marks[i])"
      ],
      "metadata": {
        "trusted": true,
        "id": "a56e9a83"
      },
      "execution_count": 2,
      "outputs": [],
      "id": "a56e9a83"
    },
    {
      "cell_type": "markdown",
      "source": [
        "***"
      ],
      "metadata": {
        "id": "a777ad16"
      },
      "id": "a777ad16"
    },
    {
      "cell_type": "markdown",
      "source": [
        "##### Function for displaying top five marks"
      ],
      "metadata": {
        "id": "f0f0a869"
      },
      "id": "f0f0a869"
    },
    {
      "cell_type": "code",
      "source": [
        "def top_five_marks(marks):\n",
        "    print(\"Top\",len(marks),\"Marks are : \")\n",
        "    print(*marks[::-1], sep=\"\\n\")"
      ],
      "metadata": {
        "trusted": true,
        "id": "499cbe25"
      },
      "execution_count": 3,
      "outputs": [],
      "id": "499cbe25"
    },
    {
      "cell_type": "markdown",
      "source": [
        "***"
      ],
      "metadata": {
        "id": "cecc53e4"
      },
      "id": "cecc53e4"
    },
    {
      "cell_type": "markdown",
      "source": [
        "### Main Function"
      ],
      "metadata": {
        "id": "b8bc46dc"
      },
      "id": "b8bc46dc"
    },
    {
      "cell_type": "code",
      "source": [
        "marks=[]\n",
        "nn = input(\"Enter number of students whose marks are to be displayed : \")\n",
        "n=int(nn)\n",
        "print(\"Enter marks for\",n,\"students (Press ENTER after every students marks): \")\n",
        "for i in range(0, n):\n",
        "    ele = int(input())\n",
        "    marks.append(ele)\n",
        "\n",
        "print(\"The marks of\",n,\"students are : \")\n",
        "print(marks)\n",
        "\n",
        "while \"n\" not in input(\"Do you want to continue (n=exit): \"):\n",
        "    print(\"\\n---------------MENU---------------\")\n",
        "    print(\"1. Selection Sort of the marks\")\n",
        "    print(\"2. Bubble Sort of the marks\")\n",
        "    print(\"3. Exit\")\n",
        "\n",
        "    ch = int(input(\"\\n\\nEnter your choice (from 1 to 3) : \"))\n",
        "    if ch==1:\n",
        "      Selection_Sort(marks)\n",
        "    if ch==2:\n",
        "      Bubble_Sort(marks)\n",
        "    if ch==3:\n",
        "      print(\"\\nThanks for using this program!!\")\n",
        "    else:\n",
        "      print(\"\\nEnter a valid choice!!\")\n",
        "      continue \n",
        "    top_five_marks(marks)    "
      ],
      "metadata": {
        "trusted": true,
        "colab": {
          "base_uri": "https://localhost:8080/"
        },
        "id": "69864a42",
        "outputId": "93738a3d-744a-4d46-9d41-966f0793d111"
      },
      "execution_count": 21,
      "outputs": [
        {
          "name": "stdout",
          "output_type": "stream",
          "text": [
            "Enter number of students whose marks are to be displayed : 6\n",
            "Enter marks for 6 students (Press ENTER after every students marks): \n",
            "12\n",
            "13\n",
            "15\n",
            "11\n",
            "10\n",
            "16\n",
            "The marks of 6 students are : \n",
            "[12, 13, 15, 11, 10, 16]\n",
            "Do you want to continue (n=exit): \n",
            "\n",
            "---------------MENU---------------\n",
            "1. Selection Sort of the marks\n",
            "2. Bubble Sort of the marks\n",
            "3. Exit\n",
            "\n",
            "\n",
            "Enter your choice (from 1 to 3) : 1\n",
            "Marks of students after performing Selection Sort on the list : \n",
            "10\n",
            "11\n",
            "12\n",
            "13\n",
            "15\n",
            "16\n",
            "\n",
            "Enter a valid choice!!\n",
            "Do you want to continue (n=exit): \n",
            "\n",
            "---------------MENU---------------\n",
            "1. Selection Sort of the marks\n",
            "2. Bubble Sort of the marks\n",
            "3. Exit\n",
            "\n",
            "\n",
            "Enter your choice (from 1 to 3) : 2\n",
            "Marks of students after performing Bubble Sort on the list :\n",
            "10\n",
            "11\n",
            "12\n",
            "13\n",
            "15\n",
            "16\n",
            "\n",
            "Enter a valid choice!!\n",
            "Do you want to continue (n=exit): n\n"
          ]
        }
      ],
      "id": "69864a42"
    },
    {
      "cell_type": "markdown",
      "source": [
        "***"
      ],
      "metadata": {
        "id": "532bf652"
      },
      "id": "532bf652"
    }
  ]
}
