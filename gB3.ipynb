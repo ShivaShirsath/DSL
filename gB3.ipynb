{
  "metadata": {
    "kernelspec": {
      "name": "python",
      "display_name": "Python (Pyodide)",
      "language": "python"
    },
    "language_info": {
      "codemirror_mode": {
        "name": "python",
        "version": 3
      },
      "file_extension": ".py",
      "mimetype": "text/x-python",
      "name": "python",
      "nbconvert_exporter": "python",
      "pygments_lexer": "ipython3",
      "version": "3.8"
    },
    "colab": {
      "provenance": []
    }
  },
  "nbformat_minor": 5,
  "nbformat": 4,
  "cells": [
    {
      "cell_type": "markdown",
      "source": [
        "Write a python program to store first year percentage of students in an array.\n",
        "\n",
        "Write function for sorting array of floating point numbers in ascending order using:\n",
        "\n",
        "  + Selection Sort\n",
        "  + Bubble Sort\n",
        "\n",
        "display top five scores"
      ],
      "metadata": {
        "id": "f444479f"
      },
      "id": "f444479f"
    },
    {
      "cell_type": "markdown",
      "source": [
        "***"
      ],
      "metadata": {
        "id": "3f50d57b"
      },
      "id": "3f50d57b"
    },
    {
      "cell_type": "markdown",
      "source": [
        "##### Function for Selection Sort of elements"
      ],
      "metadata": {
        "id": "933828c5"
      },
      "id": "933828c5"
    },
    {
      "cell_type": "code",
      "source": [
        "def Selection_Sort(marks):\n",
        "    for i in range(len(marks)):\n",
        "\n",
        "        min_idx = i\n",
        "        for j in range(i + 1, len(marks)):\n",
        "            if marks[min_idx] > marks[j]:\n",
        "                min_idx = j\n",
        "\n",
        "        marks[i], marks[min_idx] = marks[min_idx], marks[i]\n",
        "\n",
        "    print(\"Marks of students after performing Selection Sort on the list : \")\n",
        "    print(marks)"
      ],
      "metadata": {
        "trusted": true,
        "id": "e14b51a5"
      },
      "execution_count": 18,
      "outputs": [],
      "id": "e14b51a5"
    },
    {
      "cell_type": "markdown",
      "source": [
        "***"
      ],
      "metadata": {
        "id": "adcb36eb"
      },
      "id": "adcb36eb"
    },
    {
      "cell_type": "markdown",
      "source": [
        "##### Function for Bubble Sort of elements"
      ],
      "metadata": {
        "id": "d4533bf4"
      },
      "id": "d4533bf4"
    },
    {
      "cell_type": "code",
      "source": [
        "def Bubble_Sort(marks):\n",
        "    n = len(marks)\n",
        "    for i in range(n - 1):\n",
        "        for j in range(0, n - i - 1):\n",
        "            if marks[j] > marks[j + 1]:\n",
        "                marks[j], marks[j + 1] = marks[j + 1], marks[j]\n",
        "\n",
        "    print(\"Marks of students after performing Bubble Sort on the list :\")\n",
        "    print(marks)"
      ],
      "metadata": {
        "trusted": true,
        "id": "a56e9a83"
      },
      "execution_count": 19,
      "outputs": [],
      "id": "a56e9a83"
    },
    {
      "cell_type": "markdown",
      "source": [
        "***"
      ],
      "metadata": {
        "id": "a777ad16"
      },
      "id": "a777ad16"
    },
    {
      "cell_type": "markdown",
      "source": [
        "##### Function for displaying top five marks"
      ],
      "metadata": {
        "id": "f0f0a869"
      },
      "id": "f0f0a869"
    },
    {
      "cell_type": "code",
      "source": [
        "def top_five_marks(marks):\n",
        "    print(\"Top 5 Marks are : \")\n",
        "    print(marks[:5:-1])"
      ],
      "metadata": {
        "trusted": true,
        "id": "499cbe25"
      },
      "execution_count": 20,
      "outputs": [],
      "id": "499cbe25"
    },
    {
      "cell_type": "markdown",
      "source": [
        "***"
      ],
      "metadata": {
        "id": "cecc53e4"
      },
      "id": "cecc53e4"
    },
    {
      "cell_type": "markdown",
      "source": [
        "### Main Function"
      ],
      "metadata": {
        "id": "b8bc46dc"
      },
      "id": "b8bc46dc"
    },
    {
      "cell_type": "code",
      "source": [
        "print(\"Enter marks for students (Press SPACE after every students marks): \")\n",
        "marks = list( map( int, input().split() ) )\n",
        "\n",
        "print(\"The marks of students are : \")\n",
        "print(marks)\n",
        "\n",
        "while \"n\" not in input(\"\\nDo you want to continue : \"):\n",
        "    print(\"1. Selection Sort of the marks\")\n",
        "    print(\"2. Bubble Sort of the marks\")\n",
        "\n",
        "    ch = int(input(\"\\nEnter your choice : \"))\n",
        "    if ch==1:\n",
        "      Selection_Sort(marks)\n",
        "    if ch==2:\n",
        "      Bubble_Sort(marks)\n",
        "\n",
        "    top_five_marks(marks)    "
      ],
      "metadata": {
        "trusted": true,
        "colab": {
          "base_uri": "https://localhost:8080/"
        },
        "id": "69864a42",
        "outputId": "e0359395-d1ad-43d6-82b0-be5ad2e7f3d9"
      },
      "execution_count": 21,
      "outputs": [
        {
          "name": "stdout",
          "output_type": "stream",
          "text": [
            "Enter marks for students (Press SPACE after every students marks): \n",
            "25 35 45 56 75 55 33 24 13 66\n",
            "The marks of students are : \n",
            "[25, 35, 45, 56, 75, 55, 33, 24, 13, 66]\n",
            "Do you want to continue : \n",
            "1. Selection Sort of the marks\n",
            "2. Bubble Sort of the marks\n",
            "\n",
            "Enter your choice : 1\n",
            "Marks of students after performing Selection Sort on the list : \n",
            "[13, 24, 25, 33, 35, 45, 55, 56, 66, 75]\n",
            "Top 5 Marks are : \n",
            "[75, 66, 56, 55]Do you want to continue : \n",
            "1. Selection Sort of the marks\n",
            "2. Bubble Sort of the marks\n",
            "\n",
            "Enter your choice : 2\n",
            "Marks of students after performing Bubble Sort on the list :\n",
            "[13, 24, 25, 33, 35, 45, 55, 56, 66, 75]\n",
            "Top 5 Marks are : \n",
            "[75, 66, 56, 55]Do you want to continue : n\n"
          ]
        }
      ],
      "id": "69864a42"
    },
    {
      "cell_type": "markdown",
      "source": [
        "***"
      ],
      "metadata": {
        "id": "532bf652"
      },
      "id": "532bf652"
    }
  ]
}