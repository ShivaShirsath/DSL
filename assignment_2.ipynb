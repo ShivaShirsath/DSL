{
 "cells": [
  {
   "cell_type": "markdown",
   "id": "9d9bf116",
   "metadata": {},
   "source": [
    "Write a python program to store marks stored in subject \"Fundamentals of Data Structure\" by N students in the class. Write functions to compute following:\n",
    "\n",
    "    1. The average score of the class.\n",
    "    2. Highest score and lowest score of the class.\n",
    "    3. Count of students who were absent for the test.\n",
    "    4. Display mark with highest frequency."
   ]
  },
  {
   "cell_type": "markdown",
   "id": "135f43c1",
   "metadata": {},
   "source": [
    "***"
   ]
  },
  {
   "cell_type": "markdown",
   "id": "6600ce06",
   "metadata": {},
   "source": [
    "##### Function for average score of the class"
   ]
  },
  {
   "cell_type": "code",
   "execution_count": 15,
   "id": "b05a4139",
   "metadata": {},
   "outputs": [],
   "source": [
    "def average(listofmarks):\n",
    "    sum=0\n",
    "    count=0\n",
    "    for i in range(len(listofmarks)):\n",
    "        if listofmarks[i]!=-999:\n",
    "            sum+=listofmarks[i]\n",
    "            count+=1\n",
    "    avg=sum/count\n",
    "    print(\"Total Marks : \", sum)\n",
    "    print(\"Average Marks : {:.2f}\".format(avg))"
   ]
  },
  {
   "cell_type": "markdown",
   "id": "6cebda89",
   "metadata": {},
   "source": [
    "***"
   ]
  },
  {
   "cell_type": "markdown",
   "id": "44105814",
   "metadata": {},
   "source": [
    "##### Function for Highest score in the test for the class"
   ]
  },
  {
   "cell_type": "code",
   "execution_count": 16,
   "id": "7068e930",
   "metadata": {},
   "outputs": [],
   "source": [
    "def Maximum(listofmarks):\n",
    "    for i in range(len(listofmarks)):\n",
    "        if listofmarks[i]!=-999:\n",
    "            Max=listofmarks[0]\n",
    "            break\n",
    "    for i in range(1,len(listofmarks)):\n",
    "        if listofmarks[i]>Max:\n",
    "            Max=listofmarks[i]\n",
    "    return(Max)"
   ]
  },
  {
   "cell_type": "markdown",
   "id": "c02e9db9",
   "metadata": {},
   "source": [
    "***"
   ]
  },
  {
   "cell_type": "markdown",
   "id": "248afece",
   "metadata": {},
   "source": [
    "##### Function for Lowest score in the test for the class"
   ]
  },
  {
   "cell_type": "code",
   "execution_count": 17,
   "id": "f1f2edc5",
   "metadata": {},
   "outputs": [],
   "source": [
    "def Minimum(listofmarks):\n",
    "    for i in range(len(listofmarks)):\n",
    "        if listofmarks[i]!=-999:\n",
    "            Min=listofmarks[0]\n",
    "            break\n",
    "    for i in range(1,len(listofmarks)):\n",
    "        if listofmarks[i]<Min:\n",
    "            Min=listofmarks[i]\n",
    "    return(Min)"
   ]
  },
  {
   "cell_type": "markdown",
   "id": "aaf365db",
   "metadata": {},
   "source": [
    "***"
   ]
  },
  {
   "cell_type": "markdown",
   "id": "9768242e",
   "metadata": {},
   "source": [
    "##### Function for counting the number of students absent for the test"
   ]
  },
  {
   "cell_type": "code",
   "execution_count": 18,
   "id": "b9284913",
   "metadata": {},
   "outputs": [],
   "source": [
    "def absentcount(listofmarks):\n",
    "    count=0\n",
    "    for i in range(len(listofmarks)):\n",
    "        if listofmarks[i]==-999:\n",
    "            count+=1\n",
    "    return(count)"
   ]
  },
  {
   "cell_type": "markdown",
   "id": "608a2ac8",
   "metadata": {},
   "source": [
    "***"
   ]
  },
  {
   "cell_type": "markdown",
   "id": "84b48503",
   "metadata": {},
   "source": [
    "##### Function for displaying marks with highest frequency"
   ]
  },
  {
   "cell_type": "code",
   "execution_count": 19,
   "id": "6e013139",
   "metadata": {},
   "outputs": [],
   "source": [
    "def maxFrequency(listofmarks):\n",
    "    i=0\n",
    "    Max=0\n",
    "    print(\"Marks  |  Frequency\")\n",
    "    for j in listofmarks:\n",
    "        if (listofmarks.index(j)==i):\n",
    "            print(j,\"    |  \",listofmarks.count(j))\n",
    "            if listofmarks.count(j)>Max:\n",
    "                Max=listofmarks.count(j)\n",
    "                mark=j\n",
    "        i=i+1\n",
    "    return(mark,Max)"
   ]
  },
  {
   "cell_type": "markdown",
   "id": "73be72ec",
   "metadata": {},
   "source": [
    "***\n",
    "***"
   ]
  },
  {
   "cell_type": "code",
   "execution_count": 20,
   "id": "da16a026",
   "metadata": {},
   "outputs": [],
   "source": [
    "### Main function"
   ]
  },
  {
   "cell_type": "markdown",
   "id": "445129b4",
   "metadata": {},
   "source": [
    "***"
   ]
  },
  {
   "cell_type": "code",
   "execution_count": 21,
   "id": "e0ba6495",
   "metadata": {},
   "outputs": [
    {
     "name": "stdout",
     "output_type": "stream",
     "text": [
      "Enter total number of students : 5\n",
      "Enter marks of student 1 : 86\n",
      "Enter marks of student 2 : 59\n",
      "Enter marks of student 3 : 89\n",
      "Enter marks of student 4 : 45\n",
      "Enter marks of student 5 : 99\n",
      "\n",
      "\n",
      "Do you want to continue (yes/no) :\n",
      "\n",
      "\n",
      "--------------------MENU--------------------\n",
      "\n",
      "1. Total and Average Marks of the Class\n",
      "2. Highest and Lowest Marks in the Class\n",
      "3. Number of Students absent for the test\n",
      "4. Marks with Highest Frequency\n",
      "5. Exit\n",
      "\n",
      "Enter your Choice (from 1 to 5) :1\n",
      "Total Marks :  378\n",
      "Average Marks : 75.60\n",
      "\n",
      "\n",
      "Do you want to continue (yes/no) :\n",
      "\n",
      "\n",
      "--------------------MENU--------------------\n",
      "\n",
      "1. Total and Average Marks of the Class\n",
      "2. Highest and Lowest Marks in the Class\n",
      "3. Number of Students absent for the test\n",
      "4. Marks with Highest Frequency\n",
      "5. Exit\n",
      "\n",
      "Enter your Choice (from 1 to 5) :2\n",
      "Highest Score in Class :  99\n",
      "Lowest Score in Class :  45\n",
      "\n",
      "\n",
      "Do you want to continue (yes/no) :\n",
      "\n",
      "\n",
      "--------------------MENU--------------------\n",
      "\n",
      "1. Total and Average Marks of the Class\n",
      "2. Highest and Lowest Marks in the Class\n",
      "3. Number of Students absent for the test\n",
      "4. Marks with Highest Frequency\n",
      "5. Exit\n",
      "\n",
      "Enter your Choice (from 1 to 5) :3\n",
      "Number of Students absent in the test :  0\n",
      "\n",
      "\n",
      "Do you want to continue (yes/no) :\n",
      "\n",
      "\n",
      "--------------------MENU--------------------\n",
      "\n",
      "1. Total and Average Marks of the Class\n",
      "2. Highest and Lowest Marks in the Class\n",
      "3. Number of Students absent for the test\n",
      "4. Marks with Highest Frequency\n",
      "5. Exit\n",
      "\n",
      "Enter your Choice (from 1 to 5) :4\n",
      "Marks  |  Frequency\n",
      "86     |   1\n",
      "59     |   1\n",
      "89     |   1\n",
      "45     |   1\n",
      "99     |   1\n",
      "Highest frequency is of marks 86 that is 1 \n",
      "\n",
      "\n",
      "Do you want to continue (yes/no) :\n",
      "\n",
      "\n",
      "--------------------MENU--------------------\n",
      "\n",
      "1. Total and Average Marks of the Class\n",
      "2. Highest and Lowest Marks in the Class\n",
      "3. Number of Students absent for the test\n",
      "4. Marks with Highest Frequency\n",
      "5. Exit\n",
      "\n",
      "Enter your Choice (from 1 to 5) :5\n",
      "Thanks for using this program !\n",
      "\n",
      "\n",
      "Do you want to continue (yes/no) :\n",
      "\n",
      "\n",
      "--------------------MENU--------------------\n",
      "\n",
      "1. Total and Average Marks of the Class\n",
      "2. Highest and Lowest Marks in the Class\n",
      "3. Number of Students absent for the test\n",
      "4. Marks with Highest Frequency\n",
      "5. Exit\n",
      "\n",
      "Enter your Choice (from 1 to 5) :6\n",
      "!!Wrong Choice!! \n",
      "\n",
      "\n",
      "Do you want to continue (yes/no) :n\n"
     ]
    }
   ],
   "source": [
    "marksinFDS=[]\n",
    "numberofstudents=int(input(\"Enter total number of students : \"))\n",
    "for i in range(numberofstudents):\n",
    "    marks=int(input(\"Enter marks of student \"+str(i+1)+\" : \"))\n",
    "    marksinFDS.append(marks)\n",
    "\n",
    "while 'n' not in input(\"\\n\\nDo you want to continue (yes/no) :\"):\n",
    "    print(\"\\n\\n--------------------MENU--------------------\\n\")\n",
    "    print(\"1. Total and Average Marks of the Class\")\n",
    "    print(\"2. Highest and Lowest Marks in the Class\")\n",
    "    print(\"3. Number of Students absent for the test\")\n",
    "    print(\"4. Marks with Highest Frequency\")\n",
    "    print(\"5. Exit\\n\")\n",
    "    ch=int(input(\"Enter your Choice (from 1 to 5) :\"))\n",
    "\n",
    "    match ch:\n",
    "        case 1:\n",
    "            average(marksinFDS)\n",
    "        case 2:\n",
    "            print(\"Highest Score in Class : \", Maximum(marksinFDS))\n",
    "            print(\"Lowest Score in Class : \", Minimum(marksinFDS))\n",
    "        case 3:\n",
    "            print(\"Number of Students absent in the test : \", absentcount(marksinFDS))\n",
    "        case 4:\n",
    "            mark,fr = maxFrequency(marksinFDS)\n",
    "            print(\"Highest frequency is of marks {0} that is {1} \".format(mark,fr))\n",
    "        case 5:\n",
    "            print(\"Thanks for using this program !\")\n",
    "        case default:\n",
    "            print(\"!!Wrong Choice!! \")"
   ]
  },
  {
   "cell_type": "markdown",
   "id": "8affe816",
   "metadata": {},
   "source": [
    "***"
   ]
  }
 ],
 "metadata": {
  "kernelspec": {
   "display_name": "Python 3 (ipykernel)",
   "language": "python",
   "name": "python3"
  },
  "language_info": {
   "codemirror_mode": {
    "name": "ipython",
    "version": 3
   },
   "file_extension": ".py",
   "mimetype": "text/x-python",
   "name": "python",
   "nbconvert_exporter": "python",
   "pygments_lexer": "ipython3",
   "version": "3.10.6"
  }
 },
 "nbformat": 4,
 "nbformat_minor": 5
}
