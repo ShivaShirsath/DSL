{
  "cells": [
    {
      "cell_type": "markdown",
      "id": "9d9bf116",
      "metadata": {
        "id": "9d9bf116"
      },
      "source": [
        "Write a python program to store marks stored in subject \"Fundamentals of Data Structure\" by N students in the class. Write functions to compute following:\n",
        "\n",
        "    1. The average score of the class.\n",
        "    2. Highest score and lowest score of the class.\n",
        "    3. Count of students who were absent for the test.\n",
        "    4. Display mark with highest frequency."
      ]
    },
    {
      "cell_type": "markdown",
      "id": "135f43c1",
      "metadata": {
        "id": "135f43c1"
      },
      "source": [
        "***"
      ]
    },
    {
      "cell_type": "markdown",
      "id": "6600ce06",
      "metadata": {
        "id": "6600ce06"
      },
      "source": [
        "##### Function for average score of the class"
      ]
    },
    {
      "cell_type": "code",
      "execution_count": 7,
      "id": "b05a4139",
      "metadata": {
        "id": "b05a4139"
      },
      "outputs": [],
      "source": [
        "def average():\n",
        "    p=0\n",
        "    for i in present:\n",
        "        p=p+i\n",
        "    average=p/(len(present))\n",
        "    print(\"average marks of class is:\",average)"
      ]
    },
    {
      "cell_type": "markdown",
      "id": "6cebda89",
      "metadata": {
        "id": "6cebda89"
      },
      "source": [
        "***"
      ]
    },
    {
      "cell_type": "markdown",
      "id": "44105814",
      "metadata": {
        "id": "44105814"
      },
      "source": [
        "##### Function for Highest score in the test for the class"
      ]
    },
    {
      "cell_type": "code",
      "execution_count": 8,
      "id": "7068e930",
      "metadata": {
        "id": "7068e930"
      },
      "outputs": [],
      "source": [
        "def high():\n",
        "  print(\"Highest marks in class:\",max(present))"
      ]
    },
    {
      "cell_type": "markdown",
      "id": "c02e9db9",
      "metadata": {
        "id": "c02e9db9"
      },
      "source": [
        "***"
      ]
    },
    {
      "cell_type": "markdown",
      "id": "248afece",
      "metadata": {
        "id": "248afece"
      },
      "source": [
        "##### Function for Lowest score in the test for the class"
      ]
    },
    {
      "cell_type": "code",
      "execution_count": 9,
      "id": "f1f2edc5",
      "metadata": {
        "id": "f1f2edc5"
      },
      "outputs": [],
      "source": [
        "def low():\n",
        "  print(\"Lowest marks in class:\",min(present))"
      ]
    },
    {
      "cell_type": "markdown",
      "id": "aaf365db",
      "metadata": {
        "id": "aaf365db"
      },
      "source": [
        "***"
      ]
    },
    {
      "cell_type": "markdown",
      "id": "9768242e",
      "metadata": {
        "id": "9768242e"
      },
      "source": [
        "##### Function for counting the number of students absent for the test"
      ]
    },
    {
      "cell_type": "code",
      "execution_count": 10,
      "id": "b9284913",
      "metadata": {
        "id": "b9284913"
      },
      "outputs": [],
      "source": [
        "def absent_length():\n",
        "    print(\"count of students who are absent for the test:\",len(absent))"
      ]
    },
    {
      "cell_type": "markdown",
      "id": "608a2ac8",
      "metadata": {
        "id": "608a2ac8"
      },
      "source": [
        "***"
      ]
    },
    {
      "cell_type": "markdown",
      "id": "84b48503",
      "metadata": {
        "id": "84b48503"
      },
      "source": [
        "##### Function for displaying marks with highest frequency"
      ]
    },
    {
      "cell_type": "code",
      "execution_count": 11,
      "id": "6e013139",
      "metadata": {
        "id": "6e013139"
      },
      "outputs": [],
      "source": [
        "def frequency():\n",
        "    print(\"marks with highest frequency count:\",max(set(present),key=present.count))"
      ]
    },
    {
      "cell_type": "markdown",
      "id": "73be72ec",
      "metadata": {
        "id": "73be72ec"
      },
      "source": [
        "***\n",
        "***"
      ]
    },
    {
      "cell_type": "markdown",
      "id": "dfae1eaf",
      "metadata": {
        "id": "dfae1eaf"
      },
      "source": [
        "### Main function"
      ]
    },
    {
      "cell_type": "markdown",
      "id": "445129b4",
      "metadata": {
        "id": "445129b4"
      },
      "source": [
        "***"
      ]
    },
    {
      "cell_type": "code",
      "execution_count": 15,
      "id": "e0ba6495",
      "metadata": {
        "colab": {
          "base_uri": "https://localhost:8080/"
        },
        "id": "e0ba6495",
        "outputId": "a7ce1c86-219c-4419-cdef-ab7997005a84"
      },
      "outputs": [
        {
          "name": "stdout",
          "output_type": "stream",
          "text": [
            "Enter number of students:\n",
            "6\n",
            "consider absent student's score as 0\n",
            "Enter marks of students 1 :\n",
            "12\n",
            "Enter marks of students 2 :\n",
            "13\n",
            "Enter marks of students 3 :\n",
            "13\n",
            "Enter marks of students 4 :\n",
            "0\n",
            "marks of students: [12, 13, 13, 0]\n",
            "Enter marks of students 5 :\n",
            "0\n",
            "marks of students: [12, 13, 13, 0, 0]\n",
            "Enter marks of students 6 :\n",
            "6\n",
            "\n",
            "\n",
            "Do you want to continue (yes/no) :\n",
            "\n",
            "\n",
            "--------------------MENU--------------------\n",
            "\n",
            "1. Average Marks of the Class\n",
            "2. Highest and Lowest Marks in the Class\n",
            "3. Number of Students absent for the test\n",
            "4. Marks with Highest Frequency\n",
            "5. Exit\n",
            "\n",
            "Enter your Choice (from 1 to 5) :1\n",
            "average marks of class is: 11.0\n",
            "\n",
            "\n",
            "Do you want to continue (yes/no) :\n",
            "\n",
            "\n",
            "--------------------MENU--------------------\n",
            "\n",
            "1. Average Marks of the Class\n",
            "2. Highest and Lowest Marks in the Class\n",
            "3. Number of Students absent for the test\n",
            "4. Marks with Highest Frequency\n",
            "5. Exit\n",
            "\n",
            "Enter your Choice (from 1 to 5) :2\n",
            "Highest marks in class: 13\n",
            "Lowest marks in class: 6\n",
            "\n",
            "\n",
            "Do you want to continue (yes/no) :\n",
            "\n",
            "\n",
            "--------------------MENU--------------------\n",
            "\n",
            "1. Average Marks of the Class\n",
            "2. Highest and Lowest Marks in the Class\n",
            "3. Number of Students absent for the test\n",
            "4. Marks with Highest Frequency\n",
            "5. Exit\n",
            "\n",
            "Enter your Choice (from 1 to 5) :3\n",
            "count of students who are absent for the test: 2\n",
            "\n",
            "\n",
            "Do you want to continue (yes/no) :\n",
            "\n",
            "\n",
            "--------------------MENU--------------------\n",
            "\n",
            "1. Average Marks of the Class\n",
            "2. Highest and Lowest Marks in the Class\n",
            "3. Number of Students absent for the test\n",
            "4. Marks with Highest Frequency\n",
            "5. Exit\n",
            "\n",
            "Enter your Choice (from 1 to 5) :4\n",
            "marks with highest frequency count: 13\n",
            "\n",
            "\n",
            "Do you want to continue (yes/no) :5\n",
            "\n",
            "\n",
            "--------------------MENU--------------------\n",
            "\n",
            "1. Average Marks of the Class\n",
            "2. Highest and Lowest Marks in the Class\n",
            "3. Number of Students absent for the test\n",
            "4. Marks with Highest Frequency\n",
            "5. Exit\n",
            "\n",
            "Enter your Choice (from 1 to 5) :5\n",
            "Thanks for using this program !\n",
            "\n",
            "\n",
            "Do you want to continue (yes/no) :n\n"
          ]
        }
      ],
      "source": [
        "marks=[]\n",
        "present=[]\n",
        "absent=[]\n",
        "n=0\n",
        "def marksobtain():\n",
        "  global n\n",
        "  n=int(input(\"Enter number of students:\\n\"))\n",
        "  print(\"consider absent student's score as 0\")\n",
        "\n",
        "  for i in range(1,n+1):\n",
        "    print(\"Enter marks of students\",i,\":\")\n",
        "    s=int(input())\n",
        "    marks.append(s)\n",
        "    if(s>0):\n",
        "      present.append(s)\n",
        "    else:\n",
        "      absent.append(s)\n",
        "      print(\"marks of students:\",marks)\n",
        "\n",
        "marksobtain()\n",
        "\n",
        "while 'n' not in input(\"\\n\\nDo you want to continue (yes/no) :\"):\n",
        "  print(\"\\n\\n--------------------MENU--------------------\\n\")\n",
        "  print(\"1. Average Marks of the Class\")\n",
        "  print(\"2. Highest and Lowest Marks in the Class\")\n",
        "  print(\"3. Number of Students absent for the test\")\n",
        "  print(\"4. Marks with Highest Frequency\")\n",
        "  print(\"5. Exit\\n\")\n",
        "  ch=int(input(\"Enter your Choice (from 1 to 5) :\"))\n",
        "\n",
        "  if ch == 1:\n",
        "    average()\n",
        "  if ch == 2:\n",
        "    high()\n",
        "    low()\n",
        "  if ch == 3:\n",
        "    absent_length()\n",
        "  if ch == 4:\n",
        "    frequency()\n",
        "  if ch == 5:\n",
        "    print(\"Thanks for using this program !\")\n",
        "    break\n",
        "  if ch > 5:\n",
        "    print(\"!!Wrong Choice!! \")"
      ]
    },
    {
      "cell_type": "markdown",
      "id": "8affe816",
      "metadata": {
        "id": "8affe816"
      },
      "source": [
        "***"
      ]
    }
  ],
  "metadata": {
    "kernelspec": {
      "display_name": "Python 3 (ipykernel)",
      "language": "python",
      "name": "python3"
    },
    "language_info": {
      "codemirror_mode": {
        "name": "ipython",
        "version": 3
      },
      "file_extension": ".py",
      "mimetype": "text/x-python",
      "name": "python",
      "nbconvert_exporter": "python",
      "pygments_lexer": "ipython3",
      "version": "3.10.6"
    },
    "colab": {
      "provenance": []
    }
  },
  "nbformat": 4,
  "nbformat_minor": 5
}