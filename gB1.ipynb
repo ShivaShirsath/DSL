{
  "cells": [
    {
      "cell_type": "markdown",
      "id": "f444479f",
      "metadata": {
        "id": "f444479f"
      },
      "source": [
        "A.\n",
        "+ Write a Python program to store roll numbers of student in array who attended training program in random order. Write function for searching whether particular student attended training program or not, using Linear search and Sentinel search.\n",
        "\n",
        "B.\n",
        "+ Write a Python program to store roll numbers of student array who attended training\n",
        "program in sorted order. Write function for searching whether particular student attended training program or not, using Binary search and Fibonacci search."
      ]
    },
    {
      "cell_type": "markdown",
      "id": "3f50d57b",
      "metadata": {
        "id": "3f50d57b"
      },
      "source": [
        "***"
      ]
    },
    {
      "cell_type": "markdown",
      "id": "933828c5",
      "metadata": {
        "id": "933828c5"
      },
      "source": [
        "##### Function for Linear Search"
      ]
    },
    {
      "cell_type": "code",
      "execution_count": 30,
      "id": "e14b51a5",
      "metadata": {
        "id": "e14b51a5"
      },
      "outputs": [],
      "source": [
        "def linear_search(a,target):\n",
        "    for i in range(len(a)):\n",
        "        if(a[i]==target):\n",
        "            print(\"  Roll no.\",target,\"is present at index\",i)\n",
        "            break\n",
        "    else:\n",
        "        print(\"  Roll no.\",target,\"not found in list\")"
      ]
    },
    {
      "cell_type": "markdown",
      "id": "adcb36eb",
      "metadata": {
        "id": "adcb36eb"
      },
      "source": [
        "***"
      ]
    },
    {
      "cell_type": "markdown",
      "id": "d4533bf4",
      "metadata": {
        "id": "d4533bf4"
      },
      "source": [
        "##### Function for sentinel Search"
      ]
    },
    {
      "cell_type": "code",
      "execution_count": 31,
      "id": "a56e9a83",
      "metadata": {
        "id": "a56e9a83"
      },
      "outputs": [],
      "source": [
        "def sentinel_search(a,target):\n",
        "    a.append(target)\n",
        "    i=0\n",
        "    while(a[i]!=target):\n",
        "        i+=1\n",
        "    if(i<(len(a)-1)):\n",
        "        print(\"  Roll no.\",target,\"is present at index\",i)\n",
        "    else:\n",
        "        print(\"  Roll no.\",target,\"not found in list\")"
      ]
    },
    {
      "cell_type": "markdown",
      "id": "a777ad16",
      "metadata": {
        "id": "a777ad16"
      },
      "source": [
        "***"
      ]
    },
    {
      "cell_type": "markdown",
      "id": "f0f0a869",
      "metadata": {
        "id": "f0f0a869"
      },
      "source": [
        "##### Function for Binary Search"
      ]
    },
    {
      "cell_type": "code",
      "execution_count": 32,
      "id": "499cbe25",
      "metadata": {
        "id": "499cbe25"
      },
      "outputs": [],
      "source": [
        "def binary_search(a,target):\n",
        "    start=0\n",
        "    end=len(a)-1\n",
        "    while(start<=end):\n",
        "        mid=int((start+end)/2)\n",
        "        if(a[mid]==target):\n",
        "            print(\"  Roll no.\",target,\"is present at index\",mid)\n",
        "            break\n",
        "        elif(target>a[mid]):\n",
        "            start=mid+1\n",
        "        elif(target<a[mid]):\n",
        "            end=mid-1\n",
        "    else:\n",
        "        print(\"  Roll no.\",target,\"not found in list\")"
      ]
    },
    {
      "cell_type": "markdown",
      "id": "cecc53e4",
      "metadata": {
        "id": "cecc53e4"
      },
      "source": [
        "***"
      ]
    },
    {
      "cell_type": "markdown",
      "id": "b8bc46dc",
      "metadata": {
        "id": "b8bc46dc"
      },
      "source": [
        "##### Function for Fibonacci Search"
      ]
    },
    {
      "cell_type": "code",
      "execution_count": 33,
      "id": "69864a42",
      "metadata": {
        "id": "69864a42"
      },
      "outputs": [],
      "source": [
        "def fibonacci_search(a,target):\n",
        "    n=len(a)\n",
        "    fibn_2=0\n",
        "    fibn_1=1\n",
        "    fibn=fibn_1+fibn_2\n",
        "    while(fibn<=n):\n",
        "        fibn_2=fibn_1\n",
        "        fibn_1=fibn\n",
        "        fibn=fibn_1+fibn_2\n",
        "\n",
        "    offset=-1\n",
        "    while(fibn_1!=0):\n",
        "        i=min((offset+fibn_2),n-1)\n",
        "        if(target>a[i]):\n",
        "            fibn=fibn_1\n",
        "            fibn_1=fibn_2\n",
        "            fibn_2=fibn-fibn_1\n",
        "            offset=i\n",
        "        elif(target<a[i]):\n",
        "            fibn=fibn_2\n",
        "            fibn_1=fibn_1-fibn_2\n",
        "            fibn_2=fibn-fibn_1\n",
        "        elif(target==a[i]):\n",
        "            print(\"  Roll no.\",target,\"is present at index\",i)\n",
        "            break\n",
        "    else:\n",
        "        print(\"  Roll no.\",target,\"not found in list\")"
      ]
    },
    {
      "cell_type": "markdown",
      "metadata": {
        "id": "JhpNwAmsTpmo"
      },
      "source": [
        "***"
      ],
      "id": "JhpNwAmsTpmo"
    },
    {
      "cell_type": "markdown",
      "source": [
        "##### Showing all and getting target"
      ],
      "metadata": {
        "id": "YT2_VA60TWlc"
      },
      "id": "YT2_VA60TWlc"
    },
    {
      "cell_type": "code",
      "source": [
        "def getTarget(a):\n",
        "  print(\"\\n The roll no. of students present : \", a)\n",
        "  return int(input(\" Enter the roll no. to be searched in list : \"))  "
      ],
      "metadata": {
        "id": "3OeXkt8DTULd"
      },
      "id": "3OeXkt8DTULd",
      "execution_count": 34,
      "outputs": []
    },
    {
      "cell_type": "markdown",
      "id": "532bf652",
      "metadata": {
        "id": "532bf652"
      },
      "source": [
        "***\n",
        "***"
      ]
    },
    {
      "cell_type": "markdown",
      "id": "2457d7de",
      "metadata": {
        "id": "2457d7de"
      },
      "source": [
        "### Main Function"
      ]
    },
    {
      "cell_type": "code",
      "execution_count": 35,
      "id": "38580afa",
      "metadata": {
        "id": "38580afa",
        "colab": {
          "base_uri": "https://localhost:8080/"
        },
        "outputId": "368233ef-9233-439f-ef2f-27c0ee347087"
      },
      "outputs": [
        {
          "name": "stdout",
          "output_type": "stream",
          "text": [
            "Do you want to continue : \n",
            "\n",
            "Enter the roll no. of students who are present : \n",
            "1 3 5 7 9 2 6 8 4\n",
            "\n",
            " Do you want to continue : \n",
            "\n",
            " 1. Sorted Ordered List Search\n",
            " 2. Random Ordered List Search\n",
            "\n",
            " Enter the Choice : 1\n",
            "\n",
            " The roll no. of students present :  [1, 2, 3, 4, 5, 6, 7, 8, 9]\n",
            " Enter the roll no. to be searched in list : 5\n",
            "\n",
            "  Do yo want to continue : \n",
            "\n",
            "  1. Binary Search\n",
            "  2. Fibonacci Search\n",
            "\n",
            "  Enter the choice : 1\n",
            "  Roll no. 5 is present at index 4\n",
            "\n",
            "  Do yo want to continue : \n",
            "\n",
            "  1. Binary Search\n",
            "  2. Fibonacci Search\n",
            "\n",
            "  Enter the choice : 2\n",
            "  Roll no. 5 is present at index 4\n",
            "\n",
            "  Do yo want to continue : n\n",
            "\n",
            " Do you want to continue : \n",
            "\n",
            " 1. Sorted Ordered List Search\n",
            " 2. Random Ordered List Search\n",
            "\n",
            " Enter the Choice : 2\n",
            "\n",
            " The roll no. of students present :  [1, 2, 3, 4, 5, 6, 7, 8, 9]\n",
            " Enter the roll no. to be searched in list : 7\n",
            "\n",
            "  Do yo want to continue : \n",
            "\n",
            "  1. Linear Search\n",
            "  2. Sentinel Search\n",
            "\n",
            "  Enter the choice : 1\n",
            "  Roll no. 7 is present at index 6\n",
            "\n",
            "  Do yo want to continue : \n",
            "\n",
            "  1. Linear Search\n",
            "  2. Sentinel Search\n",
            "\n",
            "  Enter the choice : 2\n",
            "  Roll no. 7 is present at index 6\n",
            "\n",
            "  Do yo want to continue : n\n",
            "\n",
            " Do you want to continue : n\n",
            "Do you want to continue : n\n"
          ]
        }
      ],
      "source": [
        "while \"n\" not in input(\"\\nDo you want to continue : \"):\n",
        "\n",
        "  print(\"\\nEnter the roll no. of students who are present : \")  \n",
        "  a=list(map(int, input().split()))\n",
        "\n",
        "  while \"n\" not in input(\"\\n Do you want to continue : \"):\n",
        "    print(\"\\n 1. Sorted Ordered List Search\")\n",
        "    print(\" 2. Random Ordered List Search\")\n",
        "\n",
        "    choice=int(input(\"\\n Enter the Choice : \"))\n",
        "  \n",
        "        \n",
        "    if(choice==1):\n",
        "      b = list(set(a)) # for sorting the list\n",
        "      target = getTarget(b)\n",
        "      while \"n\" not in input(\"\\n  Do yo want to continue : \"):\n",
        "        print(\"\\n  1. Binary Search\")\n",
        "        print(\"  2. Fibonacci Search\")\n",
        "        choice1=int(input(\"\\n  Enter the choice : \"))\n",
        "        if(choice1==1):\n",
        "          binary_search(b, target)\n",
        "        if(choice1==2):\n",
        "          fibonacci_search(b, target)\n",
        "\n",
        "    if(choice==2):\n",
        "      target = getTarget(a)\n",
        "      while \"n\" not in input(\"\\n  Do yo want to continue : \"):\n",
        "        print(\"\\n  1. Linear Search\")\n",
        "        print(\"  2. Sentinel Search\")\n",
        "        choice2=int(input(\"\\n  Enter the choice : \"))\n",
        "        if(choice2==1):\n",
        "          linear_search(a, target)\n",
        "        if(choice2==2):\n",
        "          sentinel_search(a, target)"
      ]
    },
    {
      "cell_type": "markdown",
      "metadata": {
        "id": "9056znm3NPtn"
      },
      "source": [
        "***"
      ],
      "id": "9056znm3NPtn"
    }
  ],
  "metadata": {
    "kernelspec": {
      "display_name": "Python 3 (ipykernel)",
      "language": "python",
      "name": "python3"
    },
    "language_info": {
      "codemirror_mode": {
        "name": "ipython",
        "version": 3
      },
      "file_extension": ".py",
      "mimetype": "text/x-python",
      "name": "python",
      "nbconvert_exporter": "python",
      "pygments_lexer": "ipython3",
      "version": "3.10.6"
    },
    "colab": {
      "provenance": []
    }
  },
  "nbformat": 4,
  "nbformat_minor": 5
}