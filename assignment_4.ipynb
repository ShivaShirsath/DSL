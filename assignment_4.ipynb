{
 "cells": [
  {
   "cell_type": "markdown",
   "id": "f444479f",
   "metadata": {},
   "source": [
    "a) Write a Python program to store roll numbers of student in array who attended training program in **random order**. Write function for searching whether particular student attended training program or not, using **Linear search** and **Sentinel search**.\n",
    "\n",
    "b) Write a Python program to store roll numbers of students array who attended training program in **sorted order**. Write function for searching whether particular student attended training program or not, using **Binary search** and **Fibonacci search**."
   ]
  },
  {
   "cell_type": "markdown",
   "id": "3f50d57b",
   "metadata": {},
   "source": [
    "***"
   ]
  },
  {
   "cell_type": "markdown",
   "id": "933828c5",
   "metadata": {},
   "source": [
    "##### Function for Linear search"
   ]
  },
  {
   "cell_type": "code",
   "execution_count": 1,
   "id": "e14b51a5",
   "metadata": {},
   "outputs": [],
   "source": [
    "def linear_search(a,target):\n",
    "    for i in range(len(a)):\n",
    "        if(a[i]==target):\n",
    "            print(\"Roll no.\",target,\"is present at index\",i)\n",
    "            break\n",
    "    else:\n",
    "        print(\"Roll no.\",target,\"not found in list\")"
   ]
  },
  {
   "cell_type": "markdown",
   "id": "adcb36eb",
   "metadata": {},
   "source": [
    "***"
   ]
  },
  {
   "cell_type": "markdown",
   "id": "d4533bf4",
   "metadata": {},
   "source": [
    "##### Function for Binary Search"
   ]
  },
  {
   "cell_type": "code",
   "execution_count": 2,
   "id": "a56e9a83",
   "metadata": {},
   "outputs": [],
   "source": [
    "def binary_search(a,target):\n",
    "    start=0\n",
    "    end=len(a)-1\n",
    "    while(start<=end):\n",
    "        mid=int((start+end)/2)\n",
    "        if(a[mid]==target):\n",
    "            print(\"Roll no.\",target,\"is present at index\",mid)\n",
    "            break\n",
    "        elif(target>a[mid]):\n",
    "            start=mid+1\n",
    "        elif(target<a[mid]):\n",
    "            end=mid-1\n",
    "    else:\n",
    "        print(\"Roll no.\",target,\"not found in list\")"
   ]
  },
  {
   "cell_type": "markdown",
   "id": "a777ad16",
   "metadata": {},
   "source": [
    "***"
   ]
  },
  {
   "cell_type": "markdown",
   "id": "f0f0a869",
   "metadata": {},
   "source": [
    "##### Function for sentinel search"
   ]
  },
  {
   "cell_type": "code",
   "execution_count": 3,
   "id": "499cbe25",
   "metadata": {},
   "outputs": [],
   "source": [
    "def sentinel_search(a,target):\n",
    "    a.append(target)\n",
    "    i=0\n",
    "    while(a[i]!=target):\n",
    "        i+=1\n",
    "    if(i<(len(a)-1)):\n",
    "        print(\"Roll no.\",target,\"is present at index\",i)\n",
    "    else:\n",
    "        print(\"Roll no.\",target,\"not found in list\")"
   ]
  },
  {
   "cell_type": "markdown",
   "id": "cecc53e4",
   "metadata": {},
   "source": [
    "***"
   ]
  },
  {
   "cell_type": "markdown",
   "id": "b8bc46dc",
   "metadata": {},
   "source": [
    "##### Function for fibonacci search"
   ]
  },
  {
   "cell_type": "code",
   "execution_count": 4,
   "id": "69864a42",
   "metadata": {},
   "outputs": [],
   "source": [
    "def fibonacci_search(a,target):\n",
    "    n=len(a)\n",
    "    fibn_2=0\n",
    "    fibn_1=1\n",
    "    fibn=fibn_1+fibn_2\n",
    "    while(fibn<=n):\n",
    "        fibn_2=fibn_1\n",
    "        fibn_1=fibn\n",
    "        fibn=fibn_1+fibn_2\n",
    "    offset=-1\n",
    "    while(fibn_1!=0):\n",
    "        i=min((offset+fibn_2),n-1)\n",
    "        if(target>a[i]):\n",
    "            fibn=fibn_1\n",
    "            fibn_1=fibn_2\n",
    "            fibn_2=fibn-fibn_1\n",
    "            offset=i\n",
    "        elif(target<a[i]):\n",
    "            fibn=fibn_2\n",
    "            fibn_1=fibn_1-fibn_2\n",
    "            fibn_2=fibn-fibn_1\n",
    "        elif(target==a[i]):\n",
    "            print(\"Roll no.\",target,\"is present at index\",i)\n",
    "            break\n",
    "    else:\n",
    "        print(\"Roll no.\",target,\"not found in list\")"
   ]
  },
  {
   "cell_type": "markdown",
   "id": "532bf652",
   "metadata": {},
   "source": [
    "***\n",
    "***"
   ]
  },
  {
   "cell_type": "markdown",
   "id": "2457d7de",
   "metadata": {},
   "source": [
    "### Main function"
   ]
  },
  {
   "cell_type": "code",
   "execution_count": 6,
   "id": "38580afa",
   "metadata": {},
   "outputs": [
    {
     "name": "stdout",
     "output_type": "stream",
     "text": [
      "Hello\n",
      "Do you want to continue (y/n):y\n",
      "1.Sorted List Search\n",
      "2.Unsorted List Search\n",
      "Enter number of students present : 5\n",
      "Enter the roll no. of student:1\n",
      "Enter the roll no. of student:2\n",
      "Enter the roll no. of student:3\n",
      "Enter the roll no. of student:6\n",
      "Enter the roll no. of student:8\n",
      "\n",
      "The roll no. of students present:  [1, 2, 3, 6, 8]\n",
      "Enter the roll no. to be searched in list:6\n",
      "Do you want to continue (y/n):y\n",
      "1.Binary Search\n",
      "2.Fibonacci Search\n",
      "3.Linear Search\n",
      "4.Sentinel Search\n",
      "Enter the choice:1\n",
      "Roll no. 6 is present at index 3\n",
      "Do you want to continue (y/n):n\n",
      "Thank You!!!\n",
      "Do you want to continue (y/n):n\n"
     ]
    }
   ],
   "source": [
    "print(\"Hello\")\n",
    "while \"n\" not in input(\"Do you want to continue (y/n):\"):\n",
    "    print(\"\"\"\n",
    "\n",
    "1. Sorted List Search\n",
    "2. Unsorted List Search\n",
    "\n",
    "\"\"\")\n",
    "    \n",
    "    n = int(input(\"Enter number of students present : \"))\n",
    "    a=[]\n",
    "    for i in range(n):\n",
    "        elem=int(input(\"Enter the roll no. of student:\"))      \n",
    "        if(elem not in a):\n",
    "            a.append(elem)\n",
    "        else:\n",
    "            while(elem in a):\n",
    "                print(\"Roll no. already present in the list!\")\n",
    "                elem=int(input(\"Enter the roll no. of student again:\"))\n",
    "                a.append(elem)\n",
    "        \n",
    "    print(\"\\nThe roll no. of students present: \", a)\n",
    "    target=int(input(\"Enter the roll no. to be searched in list:\"))    \n",
    "    \n",
    "    while \"n\" not in input(\"Do you want to continue (y/n):\"):\n",
    "        print(\"\"\"\n",
    "\n",
    "1. Binary Search\n",
    "2. Fibonacci Search\n",
    "3. Linear Search\n",
    "4. Sentinel Search\n",
    "\n",
    "\"\"\")\n",
    "        \n",
    "        match int(input(\"Enter the choice:\")):\n",
    "            case 1:\n",
    "                binary_search(a,target)\n",
    "            case 2:\n",
    "                fibonacci_search(a,target)\n",
    "            case 3:\n",
    "                linear_search(a,target)\n",
    "            case 4:\n",
    "                sentinel_search(a,target)\n",
    "                \n",
    "    print(\"Thank You!!!\")"
   ]
  },
  {
   "cell_type": "markdown",
   "id": "d320e6da",
   "metadata": {},
   "source": [
    "***"
   ]
  }
 ],
 "metadata": {
  "kernelspec": {
   "display_name": "Python 3 (ipykernel)",
   "language": "python",
   "name": "python3"
  },
  "language_info": {
   "codemirror_mode": {
    "name": "ipython",
    "version": 3
   },
   "file_extension": ".py",
   "mimetype": "text/x-python",
   "name": "python",
   "nbconvert_exporter": "python",
   "pygments_lexer": "ipython3",
   "version": "3.10.6"
  }
 },
 "nbformat": 4,
 "nbformat_minor": 5
}
