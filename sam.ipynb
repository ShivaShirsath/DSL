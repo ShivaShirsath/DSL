{
 "cells": [
  {
   "cell_type": "markdown",
   "id": "f444479f",
   "metadata": {},
   "source": [
    "Write a python program to store marks stored in subject \"Fundamentals of Data Structure\" by N students in the class. Write functions to compute following:\n",
    "\n",
    "    1. The average score of the class.\n",
    "    2. Highest score and lowest score of the class.\n",
    "    3. Count of students who were absent for the test.\n",
    "    4. Display mark with highest frequency."
   ]
  },
  {
   "cell_type": "markdown",
   "id": "3f50d57b",
   "metadata": {},
   "source": [
    "***"
   ]
  },
  {
   "cell_type": "markdown",
   "id": "933828c5",
   "metadata": {},
   "source": [
    "##### Function for average score of the class"
   ]
  },
  {
   "cell_type": "code",
   "execution_count": 1,
   "id": "e14b51a5",
   "metadata": {},
   "outputs": [],
   "source": [
    "def average(listofmarks):\n",
    "    sum=0\n",
    "    count=0\n",
    "    for i in range(len(listofmarks)):\n",
    "        if listofmarks[i]!=-999:\n",
    "            sum+=listofmarks[i]\n",
    "            count+=1\n",
    "    avg=sum/count\n",
    "    print(\"Total Marks : \", sum)\n",
    "    print(\"Average Marks : {:.2f}\".format(avg))"
   ]
  },
  {
   "cell_type": "markdown",
   "id": "adcb36eb",
   "metadata": {},
   "source": [
    "***"
   ]
  },
  {
   "cell_type": "markdown",
   "id": "d4533bf4",
   "metadata": {},
   "source": [
    "##### Function for Highest score in the test for the class"
   ]
  },
  {
   "cell_type": "code",
   "execution_count": null,
   "id": "a56e9a83",
   "metadata": {},
   "outputs": [],
   "source": []
  },
  {
   "cell_type": "markdown",
   "id": "a777ad16",
   "metadata": {},
   "source": [
    "***"
   ]
  },
  {
   "cell_type": "markdown",
   "id": "f0f0a869",
   "metadata": {},
   "source": [
    "##### Function for Highest score in the test for the class"
   ]
  },
  {
   "cell_type": "code",
   "execution_count": null,
   "id": "499cbe25",
   "metadata": {},
   "outputs": [],
   "source": []
  },
  {
   "cell_type": "markdown",
   "id": "cecc53e4",
   "metadata": {},
   "source": [
    "***"
   ]
  },
  {
   "cell_type": "markdown",
   "id": "b8bc46dc",
   "metadata": {},
   "source": [
    "##### Function for Highest score in the test for the class"
   ]
  },
  {
   "cell_type": "code",
   "execution_count": null,
   "id": "69864a42",
   "metadata": {},
   "outputs": [],
   "source": []
  },
  {
   "cell_type": "markdown",
   "id": "532bf652",
   "metadata": {},
   "source": [
    "***"
   ]
  },
  {
   "cell_type": "markdown",
   "id": "2457d7de",
   "metadata": {},
   "source": [
    "##### Function for Highest score in the test for the class"
   ]
  },
  {
   "cell_type": "code",
   "execution_count": null,
   "id": "38580afa",
   "metadata": {},
   "outputs": [],
   "source": []
  },
  {
   "cell_type": "markdown",
   "id": "d320e6da",
   "metadata": {},
   "source": [
    "***"
   ]
  },
  {
   "cell_type": "markdown",
   "id": "f4b1a6b7",
   "metadata": {},
   "source": [
    "##### Function for Highest score in the test for the class"
   ]
  },
  {
   "cell_type": "code",
   "execution_count": null,
   "id": "b14274b7",
   "metadata": {},
   "outputs": [],
   "source": []
  },
  {
   "cell_type": "markdown",
   "id": "8010a26b",
   "metadata": {},
   "source": [
    "***"
   ]
  },
  {
   "cell_type": "markdown",
   "id": "0ea113de",
   "metadata": {},
   "source": [
    "##### Function for average score of the class"
   ]
  },
  {
   "cell_type": "code",
   "execution_count": null,
   "id": "e8e32696",
   "metadata": {},
   "outputs": [],
   "source": []
  },
  {
   "cell_type": "markdown",
   "id": "5fb0cc56",
   "metadata": {},
   "source": [
    "***"
   ]
  },
  {
   "cell_type": "markdown",
   "id": "02311488",
   "metadata": {},
   "source": [
    "##### Function for average score of the class"
   ]
  },
  {
   "cell_type": "code",
   "execution_count": null,
   "id": "cef5ffec",
   "metadata": {},
   "outputs": [],
   "source": []
  },
  {
   "cell_type": "markdown",
   "id": "3c19e338",
   "metadata": {},
   "source": [
    "***"
   ]
  },
  {
   "cell_type": "markdown",
   "id": "73214eaa",
   "metadata": {},
   "source": [
    "##### Function for average score of the class"
   ]
  },
  {
   "cell_type": "code",
   "execution_count": null,
   "id": "1adb1507",
   "metadata": {},
   "outputs": [],
   "source": []
  },
  {
   "cell_type": "markdown",
   "id": "035b0c77",
   "metadata": {},
   "source": [
    "***"
   ]
  },
  {
   "cell_type": "markdown",
   "id": "0426925b",
   "metadata": {},
   "source": [
    "##### Function for average score of the class"
   ]
  },
  {
   "cell_type": "code",
   "execution_count": null,
   "id": "7d945d64",
   "metadata": {},
   "outputs": [],
   "source": []
  },
  {
   "cell_type": "markdown",
   "id": "ad5a4fe8",
   "metadata": {},
   "source": [
    "***"
   ]
  },
  {
   "cell_type": "markdown",
   "id": "e4b001f6",
   "metadata": {},
   "source": [
    "##### Function for average score of the class"
   ]
  },
  {
   "cell_type": "code",
   "execution_count": null,
   "id": "c40d2e1e",
   "metadata": {},
   "outputs": [],
   "source": []
  },
  {
   "cell_type": "markdown",
   "id": "b1b8c922",
   "metadata": {},
   "source": [
    "***"
   ]
  },
  {
   "cell_type": "markdown",
   "id": "93e87a63",
   "metadata": {},
   "source": [
    "##### Function for average score of the class"
   ]
  },
  {
   "cell_type": "code",
   "execution_count": null,
   "id": "8bcdaba6",
   "metadata": {},
   "outputs": [],
   "source": []
  },
  {
   "cell_type": "markdown",
   "id": "04e1bcfb",
   "metadata": {},
   "source": [
    "***"
   ]
  },
  {
   "cell_type": "markdown",
   "id": "aa8458a2",
   "metadata": {},
   "source": [
    "##### Function for average score of the class"
   ]
  },
  {
   "cell_type": "code",
   "execution_count": null,
   "id": "f4f8e636",
   "metadata": {},
   "outputs": [],
   "source": []
  },
  {
   "cell_type": "markdown",
   "id": "53857148",
   "metadata": {},
   "source": [
    "***"
   ]
  },
  {
   "cell_type": "markdown",
   "id": "ec21aa7e",
   "metadata": {},
   "source": [
    "##### Function for average score of the class"
   ]
  },
  {
   "cell_type": "code",
   "execution_count": null,
   "id": "75659f66",
   "metadata": {},
   "outputs": [],
   "source": []
  },
  {
   "cell_type": "markdown",
   "id": "9228ad4f",
   "metadata": {},
   "source": [
    "***"
   ]
  },
  {
   "cell_type": "markdown",
   "id": "0b62dd88",
   "metadata": {},
   "source": [
    "##### Function for average score of the class"
   ]
  },
  {
   "cell_type": "code",
   "execution_count": null,
   "id": "af3853f2",
   "metadata": {},
   "outputs": [],
   "source": []
  },
  {
   "cell_type": "markdown",
   "id": "06e38270",
   "metadata": {},
   "source": [
    "##### Function for average score of the class"
   ]
  },
  {
   "cell_type": "code",
   "execution_count": null,
   "id": "2e490f55",
   "metadata": {},
   "outputs": [],
   "source": []
  },
  {
   "cell_type": "markdown",
   "id": "78173151",
   "metadata": {},
   "source": [
    "##### Function for average score of the class"
   ]
  },
  {
   "cell_type": "code",
   "execution_count": null,
   "id": "a76dda99",
   "metadata": {},
   "outputs": [],
   "source": []
  },
  {
   "cell_type": "markdown",
   "id": "ee7285b4",
   "metadata": {},
   "source": [
    "##### Function for average score of the class"
   ]
  },
  {
   "cell_type": "code",
   "execution_count": null,
   "id": "5d6e10c4",
   "metadata": {},
   "outputs": [],
   "source": []
  }
 ],
 "metadata": {
  "kernelspec": {
   "display_name": "Python 3 (ipykernel)",
   "language": "python",
   "name": "python3"
  },
  "language_info": {
   "codemirror_mode": {
    "name": "ipython",
    "version": 3
   },
   "file_extension": ".py",
   "mimetype": "text/x-python",
   "name": "python",
   "nbconvert_exporter": "python",
   "pygments_lexer": "ipython3",
   "version": "3.10.6"
  }
 },
 "nbformat": 4,
 "nbformat_minor": 5
}
