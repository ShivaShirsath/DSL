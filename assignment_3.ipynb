{
 "cells": [
  {
   "cell_type": "markdown",
   "id": "f444479f",
   "metadata": {},
   "source": [
    "Write a Python program for department library which has N books, write functions for following:\n",
    "\n",
    "    a) Delete the duplicate entries\n",
    "    b) Display books in ascending order based on cost of books \n",
    "    c) Count number of books with cost more than 500 \n",
    "    d) Copy books in a new list which has cost less than 500.\n"
   ]
  },
  {
   "cell_type": "markdown",
   "id": "3f50d57b",
   "metadata": {},
   "source": [
    "***"
   ]
  },
  {
   "cell_type": "markdown",
   "id": "933828c5",
   "metadata": {},
   "source": [
    "##### Function for sorting books"
   ]
  },
  {
   "cell_type": "code",
   "execution_count": 2,
   "id": "e14b51a5",
   "metadata": {},
   "outputs": [],
   "source": [
    "def Sorting(Books,N):\n",
    "        for i in range (N):\n",
    "            for j in range(i + 1, N):\n",
    "                if(Books[i][1] > Books[j][1]):\n",
    "                    temp1 = Books[i][0]\n",
    "                    Books[i][0] = Books[j][0]\n",
    "                    Books[j][0] = temp1\n",
    "            \n",
    "                    temp2 = Books[i][1]\n",
    "                    Books[i][1] = Books[j][1]\n",
    "                    Books[j][1] = temp2\n",
    "        print(Books)"
   ]
  },
  {
   "cell_type": "markdown",
   "id": "adcb36eb",
   "metadata": {},
   "source": [
    "***"
   ]
  },
  {
   "cell_type": "markdown",
   "id": "d4533bf4",
   "metadata": {},
   "source": [
    "##### Function for Delete Duplicate Books"
   ]
  },
  {
   "cell_type": "code",
   "execution_count": 3,
   "id": "a56e9a83",
   "metadata": {},
   "outputs": [],
   "source": [
    "def DeleteDuplicates(Books):\n",
    "        Final_Books_List = []\n",
    "        for num in Books:\n",
    "                if num not in Final_Books_List:\n",
    "                        Final_Books_List.append(num)\n",
    "                        print(Final_Books_List)"
   ]
  },
  {
   "cell_type": "markdown",
   "id": "a777ad16",
   "metadata": {},
   "source": [
    "***"
   ]
  },
  {
   "cell_type": "markdown",
   "id": "f0f0a869",
   "metadata": {},
   "source": [
    "##### Function for finding more cost"
   ]
  },
  {
   "cell_type": "code",
   "execution_count": 4,
   "id": "499cbe25",
   "metadata": {},
   "outputs": [],
   "source": [
    "def MoreCost(Books,N):\n",
    "        cnt = 0\n",
    "        for isbn in range (N):\n",
    "                if(Books[isbn][1]>500):\n",
    "                        cnt = cnt + 1\n",
    "        print(cnt)"
   ]
  },
  {
   "cell_type": "markdown",
   "id": "cecc53e4",
   "metadata": {},
   "source": [
    "***"
   ]
  },
  {
   "cell_type": "markdown",
   "id": "b8bc46dc",
   "metadata": {},
   "source": [
    "##### Function for finding less cost"
   ]
  },
  {
   "cell_type": "code",
   "execution_count": 5,
   "id": "69864a42",
   "metadata": {},
   "outputs": [],
   "source": [
    "def LessCost(Books,N):\n",
    "        cnt = 0\n",
    "        for isbn in range (N):\n",
    "                if(Books[isbn][1]<500):\n",
    "                        cnt = cnt + 1\n",
    "        new_List = [[0 for cost in range(2)] for isbn in range(cnt)]\n",
    "\n",
    "        for isbn in range (N):        \n",
    "                if(Books[isbn][1]<500):\n",
    "                        new_List[isbn][0] = Books[isbn][0]\n",
    "                        new_List[isbn][1] = Books[isbn][1]\n",
    "        print(\"\\n ISBN \\t COST\");\n",
    "        for isbn in range(cnt):\n",
    "                print(\" \",new_List[isbn][0],\"\\t\",new_List[isbn][1])"
   ]
  },
  {
   "cell_type": "markdown",
   "id": "532bf652",
   "metadata": {},
   "source": [
    "***\n",
    "***"
   ]
  },
  {
   "cell_type": "markdown",
   "id": "2457d7de",
   "metadata": {},
   "source": [
    "### Main function"
   ]
  },
  {
   "cell_type": "markdown",
   "id": "41b35b9b",
   "metadata": {},
   "source": [
    "***"
   ]
  },
  {
   "cell_type": "code",
   "execution_count": null,
   "id": "38580afa",
   "metadata": {},
   "outputs": [
    {
     "name": "stdout",
     "output_type": "stream",
     "text": [
      "Input number of books: 5\n",
      "Enter the ISBN: 110\n",
      "Enter the cost: 1000\n",
      "Enter the ISBN: 120\n",
      "Enter the cost: 599\n",
      "Enter the ISBN: 130\n",
      "Enter the cost: 656\n",
      "Enter the ISBN: 110\n",
      "Enter the cost: 1000\n",
      "Enter the ISBN: 140\n",
      "Enter the cost: 189\n",
      "\n",
      "The ISBN and cost of the books respectively\n",
      "[[110, 1000], [120, 599], [130, 656], [110, 1000], [140, 189]]\n",
      "\n",
      "\n",
      "Do you want to continue (yes/no) :\n",
      "\n",
      "\n",
      "--------------------MENU--------------------\n",
      "\n",
      "\n",
      "Department Library Books\n",
      "1.Delete Duplicate Entries\n",
      "2.Display Books in Ascending Order based on Cost books\n",
      "3.Display total Number of Books with cost more than 500\n",
      "4.Display new list which has cost less than 500\n",
      "5.Exit!\n",
      "Enter your Choice (from 1 to 5) :1\n",
      "The ISBN and cost of the books respectively: \n",
      "[[110, 1000]]\n",
      "[[110, 1000], [120, 599]]\n",
      "[[110, 1000], [120, 599], [130, 656]]\n",
      "[[110, 1000], [120, 599], [130, 656], [140, 189]]\n",
      "\n",
      "\n",
      "Do you want to continue (yes/no) :y\n",
      "\n",
      "\n",
      "--------------------MENU--------------------\n",
      "\n",
      "\n",
      "Department Library Books\n",
      "1.Delete Duplicate Entries\n",
      "2.Display Books in Ascending Order based on Cost books\n",
      "3.Display total Number of Books with cost more than 500\n",
      "4.Display new list which has cost less than 500\n",
      "5.Exit!\n",
      "Enter your Choice (from 1 to 5) :2\n",
      "Delete Duplicate Entries:\n",
      "[[140, 189], [120, 599], [130, 656], [110, 1000], [110, 1000]]\n",
      "\n",
      "\n",
      "Do you want to continue (yes/no) :\n",
      "\n",
      "\n",
      "--------------------MENU--------------------\n",
      "\n",
      "\n",
      "Department Library Books\n",
      "1.Delete Duplicate Entries\n",
      "2.Display Books in Ascending Order based on Cost books\n",
      "3.Display total Number of Books with cost more than 500\n",
      "4.Display new list which has cost less than 500\n",
      "5.Exit!\n",
      "Enter your Choice (from 1 to 5) :3\n",
      "Display Books in Ascending Order based on Cost books: \n",
      "4\n",
      "\n",
      "\n",
      "Do you want to continue (yes/no) :\n",
      "\n",
      "\n",
      "--------------------MENU--------------------\n",
      "\n",
      "\n",
      "Department Library Books\n",
      "1.Delete Duplicate Entries\n",
      "2.Display Books in Ascending Order based on Cost books\n",
      "3.Display total Number of Books with cost more than 500\n",
      "4.Display new list which has cost less than 500\n",
      "5.Exit!\n",
      "Enter your Choice (from 1 to 5) :4\n",
      "Display new list which has cost less than 500: \n",
      "\n",
      " ISBN \t COST\n",
      "  140 \t 189\n",
      "\n",
      "\n",
      "Do you want to continue (yes/no) :\n",
      "\n",
      "\n",
      "--------------------MENU--------------------\n",
      "\n",
      "\n",
      "Department Library Books\n",
      "1.Delete Duplicate Entries\n",
      "2.Display Books in Ascending Order based on Cost books\n",
      "3.Display total Number of Books with cost more than 500\n",
      "4.Display new list which has cost less than 500\n",
      "5.Exit!\n",
      "Enter your Choice (from 1 to 5) :5\n",
      "Thanks for using this program !\n"
     ]
    }
   ],
   "source": [
    "N = int(input(\"Input number of books: \"))\n",
    "Books = [[0 for cost in range(2)] for isbn in range(N)]\n",
    "for isbn in range(N):    \n",
    "        ISBN = int(input(\"Enter the ISBN: \"))\n",
    "        Books[isbn][0]= ISBN\n",
    "        COST = int(input(\"Enter the cost: \"))\n",
    "        Books[isbn][1]= COST\n",
    "\n",
    "print(\"\\nThe ISBN and cost of the books respectively\")\n",
    "print(Books)\n",
    "\n",
    "while 'n' not in input(\"\\n\\nDo you want to continue (yes/no) :\"):\n",
    "    print(\"\\n\\n--------------------MENU--------------------\\n\")\n",
    "    print(\"\\nDepartment Library Books\")\n",
    "    print(\"1.Delete Duplicate Entries\")\n",
    "    print(\"2.Display Books in Ascending Order based on Cost books\")\n",
    "    print(\"3.Display total Number of Books with cost more than 500\")\n",
    "    print(\"4.Display new list which has cost less than 500\")\n",
    "    print(\"5.Exit!\")\n",
    "    ch=int(input(\"Enter your Choice (from 1 to 5) :\"))\n",
    "\n",
    "    match ch:\n",
    "        case 1:\n",
    "            print('The ISBN and cost of the books respectively: ')\n",
    "            DeleteDuplicates(Books)\n",
    "        case 2:\n",
    "            print('Delete Duplicate Entries:')\n",
    "            Sorting(Books,N)\n",
    "        case 3:\n",
    "            print('Display Books in Ascending Order based on Cost books: ')\n",
    "            MoreCost(Books,N)\n",
    "        case 4:\n",
    "            print('Display new list which has cost less than 500: ')\n",
    "            LessCost(Books,N)\n",
    "        case 5:\n",
    "            print(\"Thanks for using this program !\")\n",
    "        case default:\n",
    "            print(\"!!Wrong Choice!! \")"
   ]
  },
  {
   "cell_type": "markdown",
   "id": "78173151",
   "metadata": {},
   "source": [
    "***"
   ]
  }
 ],
 "metadata": {
  "kernelspec": {
   "display_name": "Python 3 (ipykernel)",
   "language": "python",
   "name": "python3"
  },
  "language_info": {
   "codemirror_mode": {
    "name": "ipython",
    "version": 3
   },
   "file_extension": ".py",
   "mimetype": "text/x-python",
   "name": "python",
   "nbconvert_exporter": "python",
   "pygments_lexer": "ipython3",
   "version": "3.10.6"
  }
 },
 "nbformat": 4,
 "nbformat_minor": 5
}
